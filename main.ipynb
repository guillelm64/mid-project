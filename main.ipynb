{
 "cells": [
  {
   "cell_type": "code",
   "execution_count": 1,
   "id": "71b5c58e",
   "metadata": {},
   "outputs": [],
   "source": [
    "import pandas as pd\n",
    "import numpy as np"
   ]
  },
  {
   "cell_type": "code",
   "execution_count": 2,
   "id": "e29291a8",
   "metadata": {},
   "outputs": [
    {
     "data": {
      "text/html": [
       "<div>\n",
       "<style scoped>\n",
       "    .dataframe tbody tr th:only-of-type {\n",
       "        vertical-align: middle;\n",
       "    }\n",
       "\n",
       "    .dataframe tbody tr th {\n",
       "        vertical-align: top;\n",
       "    }\n",
       "\n",
       "    .dataframe thead th {\n",
       "        text-align: right;\n",
       "    }\n",
       "</style>\n",
       "<table border=\"1\" class=\"dataframe\">\n",
       "  <thead>\n",
       "    <tr style=\"text-align: right;\">\n",
       "      <th></th>\n",
       "      <th>Customer Number</th>\n",
       "      <th>Offer Accepted</th>\n",
       "      <th>Reward</th>\n",
       "      <th>Mailer Type</th>\n",
       "      <th>Income Level</th>\n",
       "      <th># Bank Accounts Open</th>\n",
       "      <th>Overdraft Protection</th>\n",
       "      <th>Credit Rating</th>\n",
       "      <th># Credit Cards Held</th>\n",
       "      <th># Homes Owned</th>\n",
       "      <th>Household Size</th>\n",
       "      <th>Own Your Home</th>\n",
       "      <th>Average Balance</th>\n",
       "      <th>Q1 Balance</th>\n",
       "      <th>Q2 Balance</th>\n",
       "      <th>Q3 Balance</th>\n",
       "      <th>Q4 Balance</th>\n",
       "    </tr>\n",
       "  </thead>\n",
       "  <tbody>\n",
       "    <tr>\n",
       "      <th>0</th>\n",
       "      <td>1</td>\n",
       "      <td>No</td>\n",
       "      <td>Air Miles</td>\n",
       "      <td>Letter</td>\n",
       "      <td>High</td>\n",
       "      <td>1</td>\n",
       "      <td>No</td>\n",
       "      <td>High</td>\n",
       "      <td>2</td>\n",
       "      <td>1</td>\n",
       "      <td>4</td>\n",
       "      <td>No</td>\n",
       "      <td>1160.75</td>\n",
       "      <td>1669.0</td>\n",
       "      <td>877.0</td>\n",
       "      <td>1095.0</td>\n",
       "      <td>1002.0</td>\n",
       "    </tr>\n",
       "    <tr>\n",
       "      <th>1</th>\n",
       "      <td>2</td>\n",
       "      <td>No</td>\n",
       "      <td>Air Miles</td>\n",
       "      <td>Letter</td>\n",
       "      <td>Medium</td>\n",
       "      <td>1</td>\n",
       "      <td>No</td>\n",
       "      <td>Medium</td>\n",
       "      <td>2</td>\n",
       "      <td>2</td>\n",
       "      <td>5</td>\n",
       "      <td>Yes</td>\n",
       "      <td>147.25</td>\n",
       "      <td>39.0</td>\n",
       "      <td>106.0</td>\n",
       "      <td>78.0</td>\n",
       "      <td>366.0</td>\n",
       "    </tr>\n",
       "    <tr>\n",
       "      <th>2</th>\n",
       "      <td>3</td>\n",
       "      <td>No</td>\n",
       "      <td>Air Miles</td>\n",
       "      <td>Postcard</td>\n",
       "      <td>High</td>\n",
       "      <td>2</td>\n",
       "      <td>No</td>\n",
       "      <td>Medium</td>\n",
       "      <td>2</td>\n",
       "      <td>1</td>\n",
       "      <td>2</td>\n",
       "      <td>Yes</td>\n",
       "      <td>276.50</td>\n",
       "      <td>367.0</td>\n",
       "      <td>352.0</td>\n",
       "      <td>145.0</td>\n",
       "      <td>242.0</td>\n",
       "    </tr>\n",
       "    <tr>\n",
       "      <th>3</th>\n",
       "      <td>4</td>\n",
       "      <td>No</td>\n",
       "      <td>Air Miles</td>\n",
       "      <td>Letter</td>\n",
       "      <td>Medium</td>\n",
       "      <td>2</td>\n",
       "      <td>No</td>\n",
       "      <td>High</td>\n",
       "      <td>1</td>\n",
       "      <td>1</td>\n",
       "      <td>4</td>\n",
       "      <td>No</td>\n",
       "      <td>1219.00</td>\n",
       "      <td>1578.0</td>\n",
       "      <td>1760.0</td>\n",
       "      <td>1119.0</td>\n",
       "      <td>419.0</td>\n",
       "    </tr>\n",
       "    <tr>\n",
       "      <th>4</th>\n",
       "      <td>5</td>\n",
       "      <td>No</td>\n",
       "      <td>Air Miles</td>\n",
       "      <td>Letter</td>\n",
       "      <td>Medium</td>\n",
       "      <td>1</td>\n",
       "      <td>No</td>\n",
       "      <td>Medium</td>\n",
       "      <td>2</td>\n",
       "      <td>1</td>\n",
       "      <td>6</td>\n",
       "      <td>Yes</td>\n",
       "      <td>1211.00</td>\n",
       "      <td>2140.0</td>\n",
       "      <td>1357.0</td>\n",
       "      <td>982.0</td>\n",
       "      <td>365.0</td>\n",
       "    </tr>\n",
       "  </tbody>\n",
       "</table>\n",
       "</div>"
      ],
      "text/plain": [
       "   Customer Number Offer Accepted     Reward Mailer Type Income Level  \\\n",
       "0                1             No  Air Miles      Letter         High   \n",
       "1                2             No  Air Miles      Letter       Medium   \n",
       "2                3             No  Air Miles    Postcard         High   \n",
       "3                4             No  Air Miles      Letter       Medium   \n",
       "4                5             No  Air Miles      Letter       Medium   \n",
       "\n",
       "   # Bank Accounts Open Overdraft Protection Credit Rating  \\\n",
       "0                     1                   No          High   \n",
       "1                     1                   No        Medium   \n",
       "2                     2                   No        Medium   \n",
       "3                     2                   No          High   \n",
       "4                     1                   No        Medium   \n",
       "\n",
       "   # Credit Cards Held  # Homes Owned  Household Size Own Your Home  \\\n",
       "0                    2              1               4            No   \n",
       "1                    2              2               5           Yes   \n",
       "2                    2              1               2           Yes   \n",
       "3                    1              1               4            No   \n",
       "4                    2              1               6           Yes   \n",
       "\n",
       "   Average Balance  Q1 Balance  Q2 Balance  Q3 Balance  Q4 Balance  \n",
       "0          1160.75      1669.0       877.0      1095.0      1002.0  \n",
       "1           147.25        39.0       106.0        78.0       366.0  \n",
       "2           276.50       367.0       352.0       145.0       242.0  \n",
       "3          1219.00      1578.0      1760.0      1119.0       419.0  \n",
       "4          1211.00      2140.0      1357.0       982.0       365.0  "
      ]
     },
     "execution_count": 2,
     "metadata": {},
     "output_type": "execute_result"
    }
   ],
   "source": [
    "card = pd.read_excel('creditmarketing_names.xlsx')\n",
    "card.head()"
   ]
  },
  {
   "cell_type": "code",
   "execution_count": 5,
   "id": "04806f79",
   "metadata": {
    "scrolled": false
   },
   "outputs": [],
   "source": [
    "def lower_lower_clear(df):\n",
    "    df.columns = df.columns.str.replace(' ', '_')\n",
    "    df.columns = df.columns.str.lower()\n",
    "    df.columns = df.columns.str.replace('#_', '')\n",
    "lower_lower_clear(card)"
   ]
  },
  {
   "cell_type": "code",
   "execution_count": 107,
   "id": "cac02e9e",
   "metadata": {},
   "outputs": [
    {
     "data": {
      "text/html": [
       "<div>\n",
       "<style scoped>\n",
       "    .dataframe tbody tr th:only-of-type {\n",
       "        vertical-align: middle;\n",
       "    }\n",
       "\n",
       "    .dataframe tbody tr th {\n",
       "        vertical-align: top;\n",
       "    }\n",
       "\n",
       "    .dataframe thead th {\n",
       "        text-align: right;\n",
       "    }\n",
       "</style>\n",
       "<table border=\"1\" class=\"dataframe\">\n",
       "  <thead>\n",
       "    <tr style=\"text-align: right;\">\n",
       "      <th></th>\n",
       "      <th>customer_number</th>\n",
       "      <th>offer_accepted</th>\n",
       "      <th>reward</th>\n",
       "      <th>mailer_type</th>\n",
       "      <th>income_level</th>\n",
       "      <th>bank_accounts_open</th>\n",
       "      <th>overdraft_protection</th>\n",
       "      <th>credit_rating</th>\n",
       "      <th>credit_cards_held</th>\n",
       "      <th>homes_owned</th>\n",
       "      <th>household_size</th>\n",
       "      <th>own_your_home</th>\n",
       "      <th>average_balance</th>\n",
       "      <th>q1_balance</th>\n",
       "      <th>q2_balance</th>\n",
       "      <th>q3_balance</th>\n",
       "      <th>q4_balance</th>\n",
       "      <th>customers_balance_view</th>\n",
       "    </tr>\n",
       "  </thead>\n",
       "  <tbody>\n",
       "    <tr>\n",
       "      <th>0</th>\n",
       "      <td>1</td>\n",
       "      <td>No</td>\n",
       "      <td>Air Miles</td>\n",
       "      <td>Letter</td>\n",
       "      <td>High</td>\n",
       "      <td>1</td>\n",
       "      <td>No</td>\n",
       "      <td>High</td>\n",
       "      <td>2</td>\n",
       "      <td>1</td>\n",
       "      <td>4</td>\n",
       "      <td>No</td>\n",
       "      <td>1160.75</td>\n",
       "      <td>1669.0</td>\n",
       "      <td>877.0</td>\n",
       "      <td>1095.0</td>\n",
       "      <td>1002.0</td>\n",
       "      <td>Q3</td>\n",
       "    </tr>\n",
       "    <tr>\n",
       "      <th>1</th>\n",
       "      <td>2</td>\n",
       "      <td>No</td>\n",
       "      <td>Air Miles</td>\n",
       "      <td>Letter</td>\n",
       "      <td>Medium</td>\n",
       "      <td>1</td>\n",
       "      <td>No</td>\n",
       "      <td>Medium</td>\n",
       "      <td>2</td>\n",
       "      <td>2</td>\n",
       "      <td>5</td>\n",
       "      <td>Yes</td>\n",
       "      <td>147.25</td>\n",
       "      <td>39.0</td>\n",
       "      <td>106.0</td>\n",
       "      <td>78.0</td>\n",
       "      <td>366.0</td>\n",
       "      <td>Q1</td>\n",
       "    </tr>\n",
       "    <tr>\n",
       "      <th>2</th>\n",
       "      <td>3</td>\n",
       "      <td>No</td>\n",
       "      <td>Air Miles</td>\n",
       "      <td>Postcard</td>\n",
       "      <td>High</td>\n",
       "      <td>2</td>\n",
       "      <td>No</td>\n",
       "      <td>Medium</td>\n",
       "      <td>2</td>\n",
       "      <td>1</td>\n",
       "      <td>2</td>\n",
       "      <td>Yes</td>\n",
       "      <td>276.50</td>\n",
       "      <td>367.0</td>\n",
       "      <td>352.0</td>\n",
       "      <td>145.0</td>\n",
       "      <td>242.0</td>\n",
       "      <td>Q2</td>\n",
       "    </tr>\n",
       "    <tr>\n",
       "      <th>3</th>\n",
       "      <td>4</td>\n",
       "      <td>No</td>\n",
       "      <td>Air Miles</td>\n",
       "      <td>Letter</td>\n",
       "      <td>Medium</td>\n",
       "      <td>2</td>\n",
       "      <td>No</td>\n",
       "      <td>High</td>\n",
       "      <td>1</td>\n",
       "      <td>1</td>\n",
       "      <td>4</td>\n",
       "      <td>No</td>\n",
       "      <td>1219.00</td>\n",
       "      <td>1578.0</td>\n",
       "      <td>1760.0</td>\n",
       "      <td>1119.0</td>\n",
       "      <td>419.0</td>\n",
       "      <td>Q3</td>\n",
       "    </tr>\n",
       "    <tr>\n",
       "      <th>4</th>\n",
       "      <td>5</td>\n",
       "      <td>No</td>\n",
       "      <td>Air Miles</td>\n",
       "      <td>Letter</td>\n",
       "      <td>Medium</td>\n",
       "      <td>1</td>\n",
       "      <td>No</td>\n",
       "      <td>Medium</td>\n",
       "      <td>2</td>\n",
       "      <td>1</td>\n",
       "      <td>6</td>\n",
       "      <td>Yes</td>\n",
       "      <td>1211.00</td>\n",
       "      <td>2140.0</td>\n",
       "      <td>1357.0</td>\n",
       "      <td>982.0</td>\n",
       "      <td>365.0</td>\n",
       "      <td>Q3</td>\n",
       "    </tr>\n",
       "    <tr>\n",
       "      <th>5</th>\n",
       "      <td>6</td>\n",
       "      <td>No</td>\n",
       "      <td>Air Miles</td>\n",
       "      <td>Letter</td>\n",
       "      <td>Medium</td>\n",
       "      <td>1</td>\n",
       "      <td>No</td>\n",
       "      <td>High</td>\n",
       "      <td>3</td>\n",
       "      <td>1</td>\n",
       "      <td>4</td>\n",
       "      <td>No</td>\n",
       "      <td>1114.75</td>\n",
       "      <td>1847.0</td>\n",
       "      <td>1365.0</td>\n",
       "      <td>750.0</td>\n",
       "      <td>497.0</td>\n",
       "      <td>Q3</td>\n",
       "    </tr>\n",
       "    <tr>\n",
       "      <th>6</th>\n",
       "      <td>7</td>\n",
       "      <td>No</td>\n",
       "      <td>Air Miles</td>\n",
       "      <td>Letter</td>\n",
       "      <td>Medium</td>\n",
       "      <td>1</td>\n",
       "      <td>No</td>\n",
       "      <td>Medium</td>\n",
       "      <td>2</td>\n",
       "      <td>1</td>\n",
       "      <td>3</td>\n",
       "      <td>No</td>\n",
       "      <td>283.75</td>\n",
       "      <td>468.0</td>\n",
       "      <td>188.0</td>\n",
       "      <td>347.0</td>\n",
       "      <td>132.0</td>\n",
       "      <td>Q2</td>\n",
       "    </tr>\n",
       "    <tr>\n",
       "      <th>7</th>\n",
       "      <td>8</td>\n",
       "      <td>No</td>\n",
       "      <td>Cash Back</td>\n",
       "      <td>Postcard</td>\n",
       "      <td>Low</td>\n",
       "      <td>1</td>\n",
       "      <td>No</td>\n",
       "      <td>Medium</td>\n",
       "      <td>4</td>\n",
       "      <td>1</td>\n",
       "      <td>4</td>\n",
       "      <td>Yes</td>\n",
       "      <td>278.50</td>\n",
       "      <td>132.0</td>\n",
       "      <td>391.0</td>\n",
       "      <td>285.0</td>\n",
       "      <td>306.0</td>\n",
       "      <td>Q2</td>\n",
       "    </tr>\n",
       "    <tr>\n",
       "      <th>8</th>\n",
       "      <td>9</td>\n",
       "      <td>No</td>\n",
       "      <td>Air Miles</td>\n",
       "      <td>Postcard</td>\n",
       "      <td>Medium</td>\n",
       "      <td>1</td>\n",
       "      <td>No</td>\n",
       "      <td>Low</td>\n",
       "      <td>2</td>\n",
       "      <td>1</td>\n",
       "      <td>4</td>\n",
       "      <td>Yes</td>\n",
       "      <td>1005.00</td>\n",
       "      <td>894.0</td>\n",
       "      <td>891.0</td>\n",
       "      <td>882.0</td>\n",
       "      <td>1353.0</td>\n",
       "      <td>Q3</td>\n",
       "    </tr>\n",
       "    <tr>\n",
       "      <th>9</th>\n",
       "      <td>10</td>\n",
       "      <td>No</td>\n",
       "      <td>Air Miles</td>\n",
       "      <td>Letter</td>\n",
       "      <td>High</td>\n",
       "      <td>2</td>\n",
       "      <td>No</td>\n",
       "      <td>Low</td>\n",
       "      <td>3</td>\n",
       "      <td>2</td>\n",
       "      <td>4</td>\n",
       "      <td>Yes</td>\n",
       "      <td>974.25</td>\n",
       "      <td>1814.0</td>\n",
       "      <td>1454.0</td>\n",
       "      <td>514.0</td>\n",
       "      <td>115.0</td>\n",
       "      <td>Q3</td>\n",
       "    </tr>\n",
       "    <tr>\n",
       "      <th>10</th>\n",
       "      <td>11</td>\n",
       "      <td>No</td>\n",
       "      <td>Air Miles</td>\n",
       "      <td>Postcard</td>\n",
       "      <td>Medium</td>\n",
       "      <td>1</td>\n",
       "      <td>No</td>\n",
       "      <td>Medium</td>\n",
       "      <td>3</td>\n",
       "      <td>1</td>\n",
       "      <td>2</td>\n",
       "      <td>Yes</td>\n",
       "      <td>1135.25</td>\n",
       "      <td>762.0</td>\n",
       "      <td>827.0</td>\n",
       "      <td>1454.0</td>\n",
       "      <td>1498.0</td>\n",
       "      <td>Q3</td>\n",
       "    </tr>\n",
       "    <tr>\n",
       "      <th>11</th>\n",
       "      <td>12</td>\n",
       "      <td>No</td>\n",
       "      <td>Cash Back</td>\n",
       "      <td>Postcard</td>\n",
       "      <td>High</td>\n",
       "      <td>1</td>\n",
       "      <td>No</td>\n",
       "      <td>Medium</td>\n",
       "      <td>3</td>\n",
       "      <td>2</td>\n",
       "      <td>5</td>\n",
       "      <td>Yes</td>\n",
       "      <td>1221.00</td>\n",
       "      <td>551.0</td>\n",
       "      <td>1652.0</td>\n",
       "      <td>896.0</td>\n",
       "      <td>1785.0</td>\n",
       "      <td>Q3</td>\n",
       "    </tr>\n",
       "  </tbody>\n",
       "</table>\n",
       "</div>"
      ],
      "text/plain": [
       "    customer_number offer_accepted     reward mailer_type income_level  \\\n",
       "0                 1             No  Air Miles      Letter         High   \n",
       "1                 2             No  Air Miles      Letter       Medium   \n",
       "2                 3             No  Air Miles    Postcard         High   \n",
       "3                 4             No  Air Miles      Letter       Medium   \n",
       "4                 5             No  Air Miles      Letter       Medium   \n",
       "5                 6             No  Air Miles      Letter       Medium   \n",
       "6                 7             No  Air Miles      Letter       Medium   \n",
       "7                 8             No  Cash Back    Postcard          Low   \n",
       "8                 9             No  Air Miles    Postcard       Medium   \n",
       "9                10             No  Air Miles      Letter         High   \n",
       "10               11             No  Air Miles    Postcard       Medium   \n",
       "11               12             No  Cash Back    Postcard         High   \n",
       "\n",
       "    bank_accounts_open overdraft_protection credit_rating  credit_cards_held  \\\n",
       "0                    1                   No          High                  2   \n",
       "1                    1                   No        Medium                  2   \n",
       "2                    2                   No        Medium                  2   \n",
       "3                    2                   No          High                  1   \n",
       "4                    1                   No        Medium                  2   \n",
       "5                    1                   No          High                  3   \n",
       "6                    1                   No        Medium                  2   \n",
       "7                    1                   No        Medium                  4   \n",
       "8                    1                   No           Low                  2   \n",
       "9                    2                   No           Low                  3   \n",
       "10                   1                   No        Medium                  3   \n",
       "11                   1                   No        Medium                  3   \n",
       "\n",
       "    homes_owned  household_size own_your_home  average_balance  q1_balance  \\\n",
       "0             1               4            No          1160.75      1669.0   \n",
       "1             2               5           Yes           147.25        39.0   \n",
       "2             1               2           Yes           276.50       367.0   \n",
       "3             1               4            No          1219.00      1578.0   \n",
       "4             1               6           Yes          1211.00      2140.0   \n",
       "5             1               4            No          1114.75      1847.0   \n",
       "6             1               3            No           283.75       468.0   \n",
       "7             1               4           Yes           278.50       132.0   \n",
       "8             1               4           Yes          1005.00       894.0   \n",
       "9             2               4           Yes           974.25      1814.0   \n",
       "10            1               2           Yes          1135.25       762.0   \n",
       "11            2               5           Yes          1221.00       551.0   \n",
       "\n",
       "    q2_balance  q3_balance  q4_balance customers_balance_view  \n",
       "0        877.0      1095.0      1002.0                     Q3  \n",
       "1        106.0        78.0       366.0                     Q1  \n",
       "2        352.0       145.0       242.0                     Q2  \n",
       "3       1760.0      1119.0       419.0                     Q3  \n",
       "4       1357.0       982.0       365.0                     Q3  \n",
       "5       1365.0       750.0       497.0                     Q3  \n",
       "6        188.0       347.0       132.0                     Q2  \n",
       "7        391.0       285.0       306.0                     Q2  \n",
       "8        891.0       882.0      1353.0                     Q3  \n",
       "9       1454.0       514.0       115.0                     Q3  \n",
       "10       827.0      1454.0      1498.0                     Q3  \n",
       "11      1652.0       896.0      1785.0                     Q3  "
      ]
     },
     "execution_count": 107,
     "metadata": {},
     "output_type": "execute_result"
    }
   ],
   "source": [
    "card.head(12)"
   ]
  },
  {
   "cell_type": "raw",
   "id": "eeb7ccff",
   "metadata": {},
   "source": [
    "Finding number of rows "
   ]
  },
  {
   "cell_type": "code",
   "execution_count": 8,
   "id": "37a290af",
   "metadata": {},
   "outputs": [
    {
     "data": {
      "text/plain": [
       "(18000, 17)"
      ]
     },
     "execution_count": 8,
     "metadata": {},
     "output_type": "execute_result"
    }
   ],
   "source": [
    "card.shape"
   ]
  },
  {
   "cell_type": "markdown",
   "id": "6a40d802",
   "metadata": {},
   "source": [
    "Finding out unique values"
   ]
  },
  {
   "cell_type": "code",
   "execution_count": 34,
   "id": "46d5e0aa",
   "metadata": {},
   "outputs": [
    {
     "name": "stdout",
     "output_type": "stream",
     "text": [
      "No     16977\n",
      "Yes     1023\n",
      "Name: offer_accepted, dtype: int64 \n",
      " ------------------\n",
      "Air Miles    6061\n",
      "Cash Back    5999\n",
      "Points       5940\n",
      "Name: reward, dtype: int64 \n",
      " ------------------\n",
      "Postcard    9147\n",
      "Letter      8853\n",
      "Name: mailer_type, dtype: int64 \n",
      " ------------------\n",
      "2    7944\n",
      "1    6154\n",
      "3    3387\n",
      "4     515\n",
      "Name: credit_cards_held, dtype: int64 \n",
      " ------------------\n",
      "3    5712\n",
      "4    5543\n",
      "5    2853\n",
      "2    2813\n",
      "1     539\n",
      "6     538\n",
      "8       1\n",
      "9       1\n",
      "Name: household_size, dtype: int64 \n",
      " ------------------\n"
     ]
    }
   ],
   "source": [
    "for i in card[['offer_accepted', 'reward', 'mailer_type', 'credit_cards_held', 'household_size']]:\n",
    "    print(card[i].value_counts(), '\\n ------------------')"
   ]
  },
  {
   "cell_type": "markdown",
   "id": "e7654b0a",
   "metadata": {},
   "source": [
    "Return first 10 customer_number in decreasing order with highest average balance, ordered by average balance"
   ]
  },
  {
   "cell_type": "code",
   "execution_count": 17,
   "id": "2fe79e8f",
   "metadata": {},
   "outputs": [
    {
     "data": {
      "text/html": [
       "<div>\n",
       "<style scoped>\n",
       "    .dataframe tbody tr th:only-of-type {\n",
       "        vertical-align: middle;\n",
       "    }\n",
       "\n",
       "    .dataframe tbody tr th {\n",
       "        vertical-align: top;\n",
       "    }\n",
       "\n",
       "    .dataframe thead th {\n",
       "        text-align: right;\n",
       "    }\n",
       "</style>\n",
       "<table border=\"1\" class=\"dataframe\">\n",
       "  <thead>\n",
       "    <tr style=\"text-align: right;\">\n",
       "      <th></th>\n",
       "      <th>customer_number</th>\n",
       "      <th>average_balance</th>\n",
       "    </tr>\n",
       "  </thead>\n",
       "  <tbody>\n",
       "    <tr>\n",
       "      <th>2296</th>\n",
       "      <td>2297</td>\n",
       "      <td>3366.25</td>\n",
       "    </tr>\n",
       "    <tr>\n",
       "      <th>12635</th>\n",
       "      <td>12636</td>\n",
       "      <td>2948.50</td>\n",
       "    </tr>\n",
       "    <tr>\n",
       "      <th>8887</th>\n",
       "      <td>8888</td>\n",
       "      <td>2738.50</td>\n",
       "    </tr>\n",
       "    <tr>\n",
       "      <th>10576</th>\n",
       "      <td>10577</td>\n",
       "      <td>2609.50</td>\n",
       "    </tr>\n",
       "    <tr>\n",
       "      <th>14003</th>\n",
       "      <td>14004</td>\n",
       "      <td>2437.50</td>\n",
       "    </tr>\n",
       "    <tr>\n",
       "      <th>10475</th>\n",
       "      <td>10476</td>\n",
       "      <td>2430.00</td>\n",
       "    </tr>\n",
       "    <tr>\n",
       "      <th>2655</th>\n",
       "      <td>2656</td>\n",
       "      <td>2336.75</td>\n",
       "    </tr>\n",
       "    <tr>\n",
       "      <th>15259</th>\n",
       "      <td>15260</td>\n",
       "      <td>2320.50</td>\n",
       "    </tr>\n",
       "    <tr>\n",
       "      <th>15608</th>\n",
       "      <td>15609</td>\n",
       "      <td>2271.50</td>\n",
       "    </tr>\n",
       "    <tr>\n",
       "      <th>8777</th>\n",
       "      <td>8778</td>\n",
       "      <td>2073.25</td>\n",
       "    </tr>\n",
       "  </tbody>\n",
       "</table>\n",
       "</div>"
      ],
      "text/plain": [
       "       customer_number  average_balance\n",
       "2296              2297          3366.25\n",
       "12635            12636          2948.50\n",
       "8887              8888          2738.50\n",
       "10576            10577          2609.50\n",
       "14003            14004          2437.50\n",
       "10475            10476          2430.00\n",
       "2655              2656          2336.75\n",
       "15259            15260          2320.50\n",
       "15608            15609          2271.50\n",
       "8777              8778          2073.25"
      ]
     },
     "execution_count": 17,
     "metadata": {},
     "output_type": "execute_result"
    }
   ],
   "source": [
    "card[['customer_number', 'average_balance']].sort_values(by = 'average_balance', ascending = False).head(10)"
   ]
  },
  {
   "cell_type": "markdown",
   "id": "f1531ae3",
   "metadata": {},
   "source": [
    "Getting average balance of each customer and total average"
   ]
  },
  {
   "cell_type": "code",
   "execution_count": 18,
   "id": "fc9b749e",
   "metadata": {},
   "outputs": [
    {
     "data": {
      "text/html": [
       "<div>\n",
       "<style scoped>\n",
       "    .dataframe tbody tr th:only-of-type {\n",
       "        vertical-align: middle;\n",
       "    }\n",
       "\n",
       "    .dataframe tbody tr th {\n",
       "        vertical-align: top;\n",
       "    }\n",
       "\n",
       "    .dataframe thead th {\n",
       "        text-align: right;\n",
       "    }\n",
       "</style>\n",
       "<table border=\"1\" class=\"dataframe\">\n",
       "  <thead>\n",
       "    <tr style=\"text-align: right;\">\n",
       "      <th></th>\n",
       "      <th>average_balance</th>\n",
       "    </tr>\n",
       "    <tr>\n",
       "      <th>customer_number</th>\n",
       "      <th></th>\n",
       "    </tr>\n",
       "  </thead>\n",
       "  <tbody>\n",
       "    <tr>\n",
       "      <th>1</th>\n",
       "      <td>1160.75</td>\n",
       "    </tr>\n",
       "    <tr>\n",
       "      <th>2</th>\n",
       "      <td>147.25</td>\n",
       "    </tr>\n",
       "    <tr>\n",
       "      <th>3</th>\n",
       "      <td>276.50</td>\n",
       "    </tr>\n",
       "    <tr>\n",
       "      <th>4</th>\n",
       "      <td>1219.00</td>\n",
       "    </tr>\n",
       "    <tr>\n",
       "      <th>5</th>\n",
       "      <td>1211.00</td>\n",
       "    </tr>\n",
       "    <tr>\n",
       "      <th>...</th>\n",
       "      <td>...</td>\n",
       "    </tr>\n",
       "    <tr>\n",
       "      <th>17996</th>\n",
       "      <td>167.50</td>\n",
       "    </tr>\n",
       "    <tr>\n",
       "      <th>17997</th>\n",
       "      <td>850.50</td>\n",
       "    </tr>\n",
       "    <tr>\n",
       "      <th>17998</th>\n",
       "      <td>1087.25</td>\n",
       "    </tr>\n",
       "    <tr>\n",
       "      <th>17999</th>\n",
       "      <td>1022.25</td>\n",
       "    </tr>\n",
       "    <tr>\n",
       "      <th>18000</th>\n",
       "      <td>1056.00</td>\n",
       "    </tr>\n",
       "  </tbody>\n",
       "</table>\n",
       "<p>18000 rows × 1 columns</p>\n",
       "</div>"
      ],
      "text/plain": [
       "                 average_balance\n",
       "customer_number                 \n",
       "1                        1160.75\n",
       "2                         147.25\n",
       "3                         276.50\n",
       "4                        1219.00\n",
       "5                        1211.00\n",
       "...                          ...\n",
       "17996                     167.50\n",
       "17997                     850.50\n",
       "17998                    1087.25\n",
       "17999                    1022.25\n",
       "18000                    1056.00\n",
       "\n",
       "[18000 rows x 1 columns]"
      ]
     },
     "execution_count": 18,
     "metadata": {},
     "output_type": "execute_result"
    }
   ],
   "source": [
    "card.groupby(['customer_number']).agg({'average_balance': 'mean'})"
   ]
  },
  {
   "cell_type": "code",
   "execution_count": 19,
   "id": "7140c496",
   "metadata": {},
   "outputs": [
    {
     "data": {
      "text/plain": [
       "940.5155624165554"
      ]
     },
     "execution_count": 19,
     "metadata": {},
     "output_type": "execute_result"
    }
   ],
   "source": [
    "card['average_balance'].mean()"
   ]
  },
  {
   "cell_type": "markdown",
   "id": "c24535c9",
   "metadata": {},
   "source": [
    "\n",
    "\n",
    "average_balance of customers grouped by income_level\n",
    "\n"
   ]
  },
  {
   "cell_type": "code",
   "execution_count": 21,
   "id": "75117551",
   "metadata": {},
   "outputs": [
    {
     "data": {
      "text/html": [
       "<div>\n",
       "<style scoped>\n",
       "    .dataframe tbody tr th:only-of-type {\n",
       "        vertical-align: middle;\n",
       "    }\n",
       "\n",
       "    .dataframe tbody tr th {\n",
       "        vertical-align: top;\n",
       "    }\n",
       "\n",
       "    .dataframe thead th {\n",
       "        text-align: right;\n",
       "    }\n",
       "</style>\n",
       "<table border=\"1\" class=\"dataframe\">\n",
       "  <thead>\n",
       "    <tr style=\"text-align: right;\">\n",
       "      <th></th>\n",
       "      <th>average_balance</th>\n",
       "    </tr>\n",
       "    <tr>\n",
       "      <th>income_level</th>\n",
       "      <th></th>\n",
       "    </tr>\n",
       "  </thead>\n",
       "  <tbody>\n",
       "    <tr>\n",
       "      <th>High</th>\n",
       "      <td>942.574021</td>\n",
       "    </tr>\n",
       "    <tr>\n",
       "      <th>Low</th>\n",
       "      <td>937.664983</td>\n",
       "    </tr>\n",
       "    <tr>\n",
       "      <th>Medium</th>\n",
       "      <td>940.892940</td>\n",
       "    </tr>\n",
       "  </tbody>\n",
       "</table>\n",
       "</div>"
      ],
      "text/plain": [
       "              average_balance\n",
       "income_level                 \n",
       "High               942.574021\n",
       "Low                937.664983\n",
       "Medium             940.892940"
      ]
     },
     "execution_count": 21,
     "metadata": {},
     "output_type": "execute_result"
    }
   ],
   "source": [
    "card.groupby(['income_level']).agg({'average_balance': 'mean'})"
   ]
  },
  {
   "cell_type": "markdown",
   "id": "ed09738b",
   "metadata": {},
   "source": [
    "\n",
    "\n",
    "average_balance of customers grouped by bank_accounts_open\n",
    "\n"
   ]
  },
  {
   "cell_type": "code",
   "execution_count": 23,
   "id": "a3adc310",
   "metadata": {},
   "outputs": [
    {
     "data": {
      "text/html": [
       "<div>\n",
       "<style scoped>\n",
       "    .dataframe tbody tr th:only-of-type {\n",
       "        vertical-align: middle;\n",
       "    }\n",
       "\n",
       "    .dataframe tbody tr th {\n",
       "        vertical-align: top;\n",
       "    }\n",
       "\n",
       "    .dataframe thead th {\n",
       "        text-align: right;\n",
       "    }\n",
       "</style>\n",
       "<table border=\"1\" class=\"dataframe\">\n",
       "  <thead>\n",
       "    <tr style=\"text-align: right;\">\n",
       "      <th></th>\n",
       "      <th>average_balance</th>\n",
       "    </tr>\n",
       "    <tr>\n",
       "      <th>bank_accounts_open</th>\n",
       "      <th></th>\n",
       "    </tr>\n",
       "  </thead>\n",
       "  <tbody>\n",
       "    <tr>\n",
       "      <th>1</th>\n",
       "      <td>941.533604</td>\n",
       "    </tr>\n",
       "    <tr>\n",
       "      <th>2</th>\n",
       "      <td>936.469491</td>\n",
       "    </tr>\n",
       "    <tr>\n",
       "      <th>3</th>\n",
       "      <td>948.284746</td>\n",
       "    </tr>\n",
       "  </tbody>\n",
       "</table>\n",
       "</div>"
      ],
      "text/plain": [
       "                    average_balance\n",
       "bank_accounts_open                 \n",
       "1                        941.533604\n",
       "2                        936.469491\n",
       "3                        948.284746"
      ]
     },
     "execution_count": 23,
     "metadata": {},
     "output_type": "execute_result"
    }
   ],
   "source": [
    "card.groupby(['bank_accounts_open']).agg({'average_balance': 'mean'})"
   ]
  },
  {
   "cell_type": "raw",
   "id": "0df9873b",
   "metadata": {},
   "source": [
    "\n",
    "\n",
    "average number of credit cards held by customers for each credit card rating\n",
    "\n"
   ]
  },
  {
   "cell_type": "code",
   "execution_count": 24,
   "id": "0a1c6a06",
   "metadata": {},
   "outputs": [
    {
     "data": {
      "text/html": [
       "<div>\n",
       "<style scoped>\n",
       "    .dataframe tbody tr th:only-of-type {\n",
       "        vertical-align: middle;\n",
       "    }\n",
       "\n",
       "    .dataframe tbody tr th {\n",
       "        vertical-align: top;\n",
       "    }\n",
       "\n",
       "    .dataframe thead th {\n",
       "        text-align: right;\n",
       "    }\n",
       "</style>\n",
       "<table border=\"1\" class=\"dataframe\">\n",
       "  <thead>\n",
       "    <tr style=\"text-align: right;\">\n",
       "      <th></th>\n",
       "      <th>credit_cards_held</th>\n",
       "    </tr>\n",
       "    <tr>\n",
       "      <th>credit_rating</th>\n",
       "      <th></th>\n",
       "    </tr>\n",
       "  </thead>\n",
       "  <tbody>\n",
       "    <tr>\n",
       "      <th>High</th>\n",
       "      <td>1.895240</td>\n",
       "    </tr>\n",
       "    <tr>\n",
       "      <th>Low</th>\n",
       "      <td>1.903811</td>\n",
       "    </tr>\n",
       "    <tr>\n",
       "      <th>Medium</th>\n",
       "      <td>1.911587</td>\n",
       "    </tr>\n",
       "  </tbody>\n",
       "</table>\n",
       "</div>"
      ],
      "text/plain": [
       "               credit_cards_held\n",
       "credit_rating                   \n",
       "High                    1.895240\n",
       "Low                     1.903811\n",
       "Medium                  1.911587"
      ]
     },
     "execution_count": 24,
     "metadata": {},
     "output_type": "execute_result"
    }
   ],
   "source": [
    "card.groupby(['credit_rating']).agg({'credit_cards_held': 'mean'})"
   ]
  },
  {
   "cell_type": "markdown",
   "id": "567308bc",
   "metadata": {},
   "source": [
    "\n",
    "\n",
    "Checking if there is any correlation between credit_cards_held and bank_accounts_open\n",
    "\n",
    "As it can be seen below, there are none"
   ]
  },
  {
   "cell_type": "code",
   "execution_count": 35,
   "id": "bb6e7d12",
   "metadata": {},
   "outputs": [
    {
     "data": {
      "text/plain": [
       "-0.0017281895537878053"
      ]
     },
     "execution_count": 35,
     "metadata": {},
     "output_type": "execute_result"
    }
   ],
   "source": [
    "corr = card['credit_cards_held'].corr(card['bank_accounts_open'])"
   ]
  },
  {
   "cell_type": "code",
   "execution_count": 36,
   "id": "40408ed0",
   "metadata": {},
   "outputs": [
    {
     "name": "stderr",
     "output_type": "stream",
     "text": [
      "C:\\Users\\guill\\anaconda3\\envs\\mid_project\\lib\\site-packages\\scipy\\__init__.py:146: UserWarning: A NumPy version >=1.16.5 and <1.23.0 is required for this version of SciPy (detected version 1.23.1\n",
      "  warnings.warn(f\"A NumPy version >={np_minversion} and <{np_maxversion}\"\n"
     ]
    },
    {
     "data": {
      "image/png": "[encoded data removed]",
      "text/plain": [
       "<Figure size 720x576 with 2 Axes>"
      ]
     },
     "metadata": {
      "needs_background": "light"
     },
     "output_type": "display_data"
    }
   ],
   "source": [
    "import matplotlib.pyplot as plt\n",
    "import seaborn as sns\n",
    "%matplotlib inline\n",
    "corr_matrix=card.corr(method='pearson')  \n",
    "fig, ax = plt.subplots(figsize=(10, 8))\n",
    "ax = sns.heatmap(corr_matrix, annot=True)\n",
    "plt.show()"
   ]
  },
  {
   "cell_type": "markdown",
   "id": "0a01d8eb",
   "metadata": {},
   "source": [
    "\n",
    "Data filtered by:\n",
    "        - Credit rating medium or high\n",
    "        - Credit cards held 2 or less\n",
    "        - Owns their own home\n",
    "        - Household size 3 or more\n",
    "Checking out how many customers answered Yes to the offer(offer_accepted column)\n"
   ]
  },
  {
   "cell_type": "code",
   "execution_count": 66,
   "id": "438b24f8",
   "metadata": {},
   "outputs": [],
   "source": [
    "main_parameters = card.loc[(card['credit_cards_held'] <= 2) & (card['own_your_home'] == 'Yes') & (card['household_size'] >= 3) \n",
    "         & ((card['credit_rating'] == 'High') | (card['credit_rating'] == 'Medium'))].head()"
   ]
  },
  {
   "cell_type": "code",
   "execution_count": 103,
   "id": "2c86fd8d",
   "metadata": {},
   "outputs": [
    {
     "data": {
      "text/plain": [
       "No    5\n",
       "Name: offer_accepted, dtype: int64"
      ]
     },
     "execution_count": 103,
     "metadata": {},
     "output_type": "execute_result"
    }
   ],
   "source": [
    "main_parameters['offer_accepted'].value_counts()"
   ]
  },
  {
   "cell_type": "markdown",
   "id": "77a018c9",
   "metadata": {},
   "source": [
    "There are no 'Yes' in the column offer_accepted from the filtered data"
   ]
  },
  {
   "cell_type": "markdown",
   "id": "88e44afd",
   "metadata": {},
   "source": [
    "\n",
    "\n",
    "Filtering the customers whom average balance is below the average balance of the whole.\n",
    "\n"
   ]
  },
  {
   "cell_type": "code",
   "execution_count": 77,
   "id": "48d0a966",
   "metadata": {},
   "outputs": [],
   "source": [
    "general_mean = card['average_balance'].mean()"
   ]
  },
  {
   "cell_type": "code",
   "execution_count": 80,
   "id": "6153f30a",
   "metadata": {},
   "outputs": [
    {
     "data": {
      "text/html": [
       "<div>\n",
       "<style scoped>\n",
       "    .dataframe tbody tr th:only-of-type {\n",
       "        vertical-align: middle;\n",
       "    }\n",
       "\n",
       "    .dataframe tbody tr th {\n",
       "        vertical-align: top;\n",
       "    }\n",
       "\n",
       "    .dataframe thead th {\n",
       "        text-align: right;\n",
       "    }\n",
       "</style>\n",
       "<table border=\"1\" class=\"dataframe\">\n",
       "  <thead>\n",
       "    <tr style=\"text-align: right;\">\n",
       "      <th></th>\n",
       "      <th>customer_number</th>\n",
       "      <th>offer_accepted</th>\n",
       "      <th>reward</th>\n",
       "      <th>mailer_type</th>\n",
       "      <th>income_level</th>\n",
       "      <th>bank_accounts_open</th>\n",
       "      <th>overdraft_protection</th>\n",
       "      <th>credit_rating</th>\n",
       "      <th>credit_cards_held</th>\n",
       "      <th>homes_owned</th>\n",
       "      <th>household_size</th>\n",
       "      <th>own_your_home</th>\n",
       "      <th>average_balance</th>\n",
       "      <th>q1_balance</th>\n",
       "      <th>q2_balance</th>\n",
       "      <th>q3_balance</th>\n",
       "      <th>q4_balance</th>\n",
       "    </tr>\n",
       "  </thead>\n",
       "  <tbody>\n",
       "    <tr>\n",
       "      <th>1</th>\n",
       "      <td>2</td>\n",
       "      <td>No</td>\n",
       "      <td>Air Miles</td>\n",
       "      <td>Letter</td>\n",
       "      <td>Medium</td>\n",
       "      <td>1</td>\n",
       "      <td>No</td>\n",
       "      <td>Medium</td>\n",
       "      <td>2</td>\n",
       "      <td>2</td>\n",
       "      <td>5</td>\n",
       "      <td>Yes</td>\n",
       "      <td>147.25</td>\n",
       "      <td>39.0</td>\n",
       "      <td>106.0</td>\n",
       "      <td>78.0</td>\n",
       "      <td>366.0</td>\n",
       "    </tr>\n",
       "    <tr>\n",
       "      <th>2</th>\n",
       "      <td>3</td>\n",
       "      <td>No</td>\n",
       "      <td>Air Miles</td>\n",
       "      <td>Postcard</td>\n",
       "      <td>High</td>\n",
       "      <td>2</td>\n",
       "      <td>No</td>\n",
       "      <td>Medium</td>\n",
       "      <td>2</td>\n",
       "      <td>1</td>\n",
       "      <td>2</td>\n",
       "      <td>Yes</td>\n",
       "      <td>276.50</td>\n",
       "      <td>367.0</td>\n",
       "      <td>352.0</td>\n",
       "      <td>145.0</td>\n",
       "      <td>242.0</td>\n",
       "    </tr>\n",
       "    <tr>\n",
       "      <th>6</th>\n",
       "      <td>7</td>\n",
       "      <td>No</td>\n",
       "      <td>Air Miles</td>\n",
       "      <td>Letter</td>\n",
       "      <td>Medium</td>\n",
       "      <td>1</td>\n",
       "      <td>No</td>\n",
       "      <td>Medium</td>\n",
       "      <td>2</td>\n",
       "      <td>1</td>\n",
       "      <td>3</td>\n",
       "      <td>No</td>\n",
       "      <td>283.75</td>\n",
       "      <td>468.0</td>\n",
       "      <td>188.0</td>\n",
       "      <td>347.0</td>\n",
       "      <td>132.0</td>\n",
       "    </tr>\n",
       "    <tr>\n",
       "      <th>7</th>\n",
       "      <td>8</td>\n",
       "      <td>No</td>\n",
       "      <td>Cash Back</td>\n",
       "      <td>Postcard</td>\n",
       "      <td>Low</td>\n",
       "      <td>1</td>\n",
       "      <td>No</td>\n",
       "      <td>Medium</td>\n",
       "      <td>4</td>\n",
       "      <td>1</td>\n",
       "      <td>4</td>\n",
       "      <td>Yes</td>\n",
       "      <td>278.50</td>\n",
       "      <td>132.0</td>\n",
       "      <td>391.0</td>\n",
       "      <td>285.0</td>\n",
       "      <td>306.0</td>\n",
       "    </tr>\n",
       "    <tr>\n",
       "      <th>21</th>\n",
       "      <td>22</td>\n",
       "      <td>No</td>\n",
       "      <td>Points</td>\n",
       "      <td>Letter</td>\n",
       "      <td>Medium</td>\n",
       "      <td>1</td>\n",
       "      <td>No</td>\n",
       "      <td>Low</td>\n",
       "      <td>2</td>\n",
       "      <td>2</td>\n",
       "      <td>3</td>\n",
       "      <td>Yes</td>\n",
       "      <td>811.75</td>\n",
       "      <td>720.0</td>\n",
       "      <td>407.0</td>\n",
       "      <td>1224.0</td>\n",
       "      <td>896.0</td>\n",
       "    </tr>\n",
       "  </tbody>\n",
       "</table>\n",
       "</div>"
      ],
      "text/plain": [
       "    customer_number offer_accepted     reward mailer_type income_level  \\\n",
       "1                 2             No  Air Miles      Letter       Medium   \n",
       "2                 3             No  Air Miles    Postcard         High   \n",
       "6                 7             No  Air Miles      Letter       Medium   \n",
       "7                 8             No  Cash Back    Postcard          Low   \n",
       "21               22             No     Points      Letter       Medium   \n",
       "\n",
       "    bank_accounts_open overdraft_protection credit_rating  credit_cards_held  \\\n",
       "1                    1                   No        Medium                  2   \n",
       "2                    2                   No        Medium                  2   \n",
       "6                    1                   No        Medium                  2   \n",
       "7                    1                   No        Medium                  4   \n",
       "21                   1                   No           Low                  2   \n",
       "\n",
       "    homes_owned  household_size own_your_home  average_balance  q1_balance  \\\n",
       "1             2               5           Yes           147.25        39.0   \n",
       "2             1               2           Yes           276.50       367.0   \n",
       "6             1               3            No           283.75       468.0   \n",
       "7             1               4           Yes           278.50       132.0   \n",
       "21            2               3           Yes           811.75       720.0   \n",
       "\n",
       "    q2_balance  q3_balance  q4_balance  \n",
       "1        106.0        78.0       366.0  \n",
       "2        352.0       145.0       242.0  \n",
       "6        188.0       347.0       132.0  \n",
       "7        391.0       285.0       306.0  \n",
       "21       407.0      1224.0       896.0  "
      ]
     },
     "execution_count": 80,
     "metadata": {},
     "output_type": "execute_result"
    }
   ],
   "source": [
    "card[card['average_balance'] < general_mean].head()"
   ]
  },
  {
   "cell_type": "markdown",
   "id": "60f9a03f",
   "metadata": {},
   "source": [
    "\n",
    "Column inficating in which percentile each customer is, related to the average_balance mean\n"
   ]
  },
  {
   "cell_type": "code",
   "execution_count": 93,
   "id": "04ac21dc",
   "metadata": {},
   "outputs": [
    {
     "name": "stdout",
     "output_type": "stream",
     "text": [
      "1701.875 | 238.875\n"
     ]
    }
   ],
   "source": [
    "iqr = np.nanpercentile(card['average_balance'], 75) - np.nanpercentile(card['average_balance'], 25)\n",
    "upper_limit = np.nanpercentile(card['average_balance'], 75) + 1.5*iqr\n",
    "lower_limit = np.nanpercentile(card['average_balance'], 25) - 1.5*iqr\n",
    "print(upper_limit,'|', lower_limit)"
   ]
  },
  {
   "cell_type": "code",
   "execution_count": 94,
   "id": "3914e0c9",
   "metadata": {},
   "outputs": [],
   "source": [
    "percentile_list = []\n",
    "for i in card['average_balance']:\n",
    "    if i >= 0 and i < lower_limit:\n",
    "        percentile_list.append('Q1')\n",
    "    elif i >= lower_limit and i < general_mean:\n",
    "        percentile_list.append('Q2')\n",
    "    elif i >= general_mean and i < upper_limit:\n",
    "        percentile_list.append('Q3')\n",
    "    else:\n",
    "        percentile_list.append('Q4')"
   ]
  },
  {
   "cell_type": "code",
   "execution_count": 95,
   "id": "7fa31a63",
   "metadata": {},
   "outputs": [
    {
     "data": {
      "text/html": [
       "<div>\n",
       "<style scoped>\n",
       "    .dataframe tbody tr th:only-of-type {\n",
       "        vertical-align: middle;\n",
       "    }\n",
       "\n",
       "    .dataframe tbody tr th {\n",
       "        vertical-align: top;\n",
       "    }\n",
       "\n",
       "    .dataframe thead th {\n",
       "        text-align: right;\n",
       "    }\n",
       "</style>\n",
       "<table border=\"1\" class=\"dataframe\">\n",
       "  <thead>\n",
       "    <tr style=\"text-align: right;\">\n",
       "      <th></th>\n",
       "      <th>customer_number</th>\n",
       "      <th>offer_accepted</th>\n",
       "      <th>reward</th>\n",
       "      <th>mailer_type</th>\n",
       "      <th>income_level</th>\n",
       "      <th>bank_accounts_open</th>\n",
       "      <th>overdraft_protection</th>\n",
       "      <th>credit_rating</th>\n",
       "      <th>credit_cards_held</th>\n",
       "      <th>homes_owned</th>\n",
       "      <th>household_size</th>\n",
       "      <th>own_your_home</th>\n",
       "      <th>average_balance</th>\n",
       "      <th>q1_balance</th>\n",
       "      <th>q2_balance</th>\n",
       "      <th>q3_balance</th>\n",
       "      <th>q4_balance</th>\n",
       "      <th>customers_balance_view</th>\n",
       "    </tr>\n",
       "  </thead>\n",
       "  <tbody>\n",
       "    <tr>\n",
       "      <th>0</th>\n",
       "      <td>1</td>\n",
       "      <td>No</td>\n",
       "      <td>Air Miles</td>\n",
       "      <td>Letter</td>\n",
       "      <td>High</td>\n",
       "      <td>1</td>\n",
       "      <td>No</td>\n",
       "      <td>High</td>\n",
       "      <td>2</td>\n",
       "      <td>1</td>\n",
       "      <td>4</td>\n",
       "      <td>No</td>\n",
       "      <td>1160.75</td>\n",
       "      <td>1669.0</td>\n",
       "      <td>877.0</td>\n",
       "      <td>1095.0</td>\n",
       "      <td>1002.0</td>\n",
       "      <td>Q3</td>\n",
       "    </tr>\n",
       "    <tr>\n",
       "      <th>1</th>\n",
       "      <td>2</td>\n",
       "      <td>No</td>\n",
       "      <td>Air Miles</td>\n",
       "      <td>Letter</td>\n",
       "      <td>Medium</td>\n",
       "      <td>1</td>\n",
       "      <td>No</td>\n",
       "      <td>Medium</td>\n",
       "      <td>2</td>\n",
       "      <td>2</td>\n",
       "      <td>5</td>\n",
       "      <td>Yes</td>\n",
       "      <td>147.25</td>\n",
       "      <td>39.0</td>\n",
       "      <td>106.0</td>\n",
       "      <td>78.0</td>\n",
       "      <td>366.0</td>\n",
       "      <td>Q1</td>\n",
       "    </tr>\n",
       "    <tr>\n",
       "      <th>2</th>\n",
       "      <td>3</td>\n",
       "      <td>No</td>\n",
       "      <td>Air Miles</td>\n",
       "      <td>Postcard</td>\n",
       "      <td>High</td>\n",
       "      <td>2</td>\n",
       "      <td>No</td>\n",
       "      <td>Medium</td>\n",
       "      <td>2</td>\n",
       "      <td>1</td>\n",
       "      <td>2</td>\n",
       "      <td>Yes</td>\n",
       "      <td>276.50</td>\n",
       "      <td>367.0</td>\n",
       "      <td>352.0</td>\n",
       "      <td>145.0</td>\n",
       "      <td>242.0</td>\n",
       "      <td>Q2</td>\n",
       "    </tr>\n",
       "    <tr>\n",
       "      <th>3</th>\n",
       "      <td>4</td>\n",
       "      <td>No</td>\n",
       "      <td>Air Miles</td>\n",
       "      <td>Letter</td>\n",
       "      <td>Medium</td>\n",
       "      <td>2</td>\n",
       "      <td>No</td>\n",
       "      <td>High</td>\n",
       "      <td>1</td>\n",
       "      <td>1</td>\n",
       "      <td>4</td>\n",
       "      <td>No</td>\n",
       "      <td>1219.00</td>\n",
       "      <td>1578.0</td>\n",
       "      <td>1760.0</td>\n",
       "      <td>1119.0</td>\n",
       "      <td>419.0</td>\n",
       "      <td>Q3</td>\n",
       "    </tr>\n",
       "    <tr>\n",
       "      <th>4</th>\n",
       "      <td>5</td>\n",
       "      <td>No</td>\n",
       "      <td>Air Miles</td>\n",
       "      <td>Letter</td>\n",
       "      <td>Medium</td>\n",
       "      <td>1</td>\n",
       "      <td>No</td>\n",
       "      <td>Medium</td>\n",
       "      <td>2</td>\n",
       "      <td>1</td>\n",
       "      <td>6</td>\n",
       "      <td>Yes</td>\n",
       "      <td>1211.00</td>\n",
       "      <td>2140.0</td>\n",
       "      <td>1357.0</td>\n",
       "      <td>982.0</td>\n",
       "      <td>365.0</td>\n",
       "      <td>Q3</td>\n",
       "    </tr>\n",
       "  </tbody>\n",
       "</table>\n",
       "</div>"
      ],
      "text/plain": [
       "   customer_number offer_accepted     reward mailer_type income_level  \\\n",
       "0                1             No  Air Miles      Letter         High   \n",
       "1                2             No  Air Miles      Letter       Medium   \n",
       "2                3             No  Air Miles    Postcard         High   \n",
       "3                4             No  Air Miles      Letter       Medium   \n",
       "4                5             No  Air Miles      Letter       Medium   \n",
       "\n",
       "   bank_accounts_open overdraft_protection credit_rating  credit_cards_held  \\\n",
       "0                   1                   No          High                  2   \n",
       "1                   1                   No        Medium                  2   \n",
       "2                   2                   No        Medium                  2   \n",
       "3                   2                   No          High                  1   \n",
       "4                   1                   No        Medium                  2   \n",
       "\n",
       "   homes_owned  household_size own_your_home  average_balance  q1_balance  \\\n",
       "0            1               4            No          1160.75      1669.0   \n",
       "1            2               5           Yes           147.25        39.0   \n",
       "2            1               2           Yes           276.50       367.0   \n",
       "3            1               4            No          1219.00      1578.0   \n",
       "4            1               6           Yes          1211.00      2140.0   \n",
       "\n",
       "   q2_balance  q3_balance  q4_balance customers_balance_view  \n",
       "0       877.0      1095.0      1002.0                     Q3  \n",
       "1       106.0        78.0       366.0                     Q1  \n",
       "2       352.0       145.0       242.0                     Q2  \n",
       "3      1760.0      1119.0       419.0                     Q3  \n",
       "4      1357.0       982.0       365.0                     Q3  "
      ]
     },
     "execution_count": 95,
     "metadata": {},
     "output_type": "execute_result"
    }
   ],
   "source": [
    "card['customers_balance_view'] = percentile_list\n",
    "card.head()"
   ]
  },
  {
   "cell_type": "markdown",
   "id": "853c9780",
   "metadata": {},
   "source": [
    "\n",
    "\n",
    "Number of people who accepted the offer against those who didn´t\n",
    "\n"
   ]
  },
  {
   "cell_type": "code",
   "execution_count": 97,
   "id": "929e3535",
   "metadata": {},
   "outputs": [
    {
     "data": {
      "text/plain": [
       "No     16977\n",
       "Yes     1023\n",
       "Name: offer_accepted, dtype: int64"
      ]
     },
     "execution_count": 97,
     "metadata": {},
     "output_type": "execute_result"
    }
   ],
   "source": [
    "card['offer_accepted'].value_counts()"
   ]
  },
  {
   "cell_type": "markdown",
   "id": "6e4ad2a0",
   "metadata": {},
   "source": [
    "\n",
    "Checking if there's difference between average_balances of high and medium credit rating against low credit card rating\n"
   ]
  },
  {
   "cell_type": "code",
   "execution_count": 99,
   "id": "b26279b0",
   "metadata": {},
   "outputs": [
    {
     "data": {
      "text/plain": [
       "944.3915732189973"
      ]
     },
     "execution_count": 99,
     "metadata": {},
     "output_type": "execute_result"
    }
   ],
   "source": [
    "high_rank = card[card['credit_rating'] == 'High']\n",
    "high_rank['average_balance'].mean()"
   ]
  },
  {
   "cell_type": "code",
   "execution_count": 101,
   "id": "6fda1682",
   "metadata": {},
   "outputs": [
    {
     "data": {
      "text/plain": [
       "936.7489101274313"
      ]
     },
     "execution_count": 101,
     "metadata": {},
     "output_type": "execute_result"
    }
   ],
   "source": [
    "medium_rank = card[card['credit_rating'] == 'Medium']\n",
    "medium_rank['average_balance'].mean()"
   ]
  },
  {
   "cell_type": "code",
   "execution_count": 102,
   "id": "a7cd5b36",
   "metadata": {},
   "outputs": [
    {
     "data": {
      "text/plain": [
       "940.3407447881641"
      ]
     },
     "execution_count": 102,
     "metadata": {},
     "output_type": "execute_result"
    }
   ],
   "source": [
    "low_rank = card[card['credit_rating'] == 'Low']\n",
    "low_rank['average_balance'].mean()"
   ]
  },
  {
   "cell_type": "markdown",
   "id": "a4330419",
   "metadata": {},
   "source": [
    "There is no great difference between high_rank and low_rank, not enough to considerate it a differentiative indicator\n",
    "\n",
    "\n"
   ]
  },
  {
   "cell_type": "markdown",
   "id": "3b03089d",
   "metadata": {},
   "source": [
    "\n",
    "\n",
    "Finding out types of communication and with how many customers were used.\n",
    "\n"
   ]
  },
  {
   "cell_type": "code",
   "execution_count": 104,
   "id": "be9ac7dd",
   "metadata": {},
   "outputs": [
    {
     "data": {
      "text/plain": [
       "Postcard    9147\n",
       "Letter      8853\n",
       "Name: mailer_type, dtype: int64"
      ]
     },
     "execution_count": 104,
     "metadata": {},
     "output_type": "execute_result"
    }
   ],
   "source": [
    "card['mailer_type'].value_counts()"
   ]
  },
  {
   "cell_type": "code",
   "execution_count": 106,
   "id": "5b49c380",
   "metadata": {},
   "outputs": [
    {
     "data": {
      "text/html": [
       "<div>\n",
       "<style scoped>\n",
       "    .dataframe tbody tr th:only-of-type {\n",
       "        vertical-align: middle;\n",
       "    }\n",
       "\n",
       "    .dataframe tbody tr th {\n",
       "        vertical-align: top;\n",
       "    }\n",
       "\n",
       "    .dataframe thead th {\n",
       "        text-align: right;\n",
       "    }\n",
       "</style>\n",
       "<table border=\"1\" class=\"dataframe\">\n",
       "  <thead>\n",
       "    <tr style=\"text-align: right;\">\n",
       "      <th></th>\n",
       "      <th>customer_number</th>\n",
       "    </tr>\n",
       "    <tr>\n",
       "      <th>mailer_type</th>\n",
       "      <th></th>\n",
       "    </tr>\n",
       "  </thead>\n",
       "  <tbody>\n",
       "    <tr>\n",
       "      <th>Letter</th>\n",
       "      <td>8853</td>\n",
       "    </tr>\n",
       "    <tr>\n",
       "      <th>Postcard</th>\n",
       "      <td>9147</td>\n",
       "    </tr>\n",
       "  </tbody>\n",
       "</table>\n",
       "</div>"
      ],
      "text/plain": [
       "             customer_number\n",
       "mailer_type                 \n",
       "Letter                  8853\n",
       "Postcard                9147"
      ]
     },
     "execution_count": 106,
     "metadata": {},
     "output_type": "execute_result"
    }
   ],
   "source": [
    "card.groupby(['mailer_type']).agg({'customer_number': 'count'})"
   ]
  },
  {
   "cell_type": "markdown",
   "id": "0167c641",
   "metadata": {},
   "source": [
    "\n",
    "Finding the customer that is the 11th least 'Q1_balance' in your database\n"
   ]
  },
  {
   "cell_type": "code",
   "execution_count": 125,
   "id": "4da2de85",
   "metadata": {},
   "outputs": [],
   "source": [
    "ordered_q1 = card[['customer_number', 'q1_balance']].sort_values(by = 'q1_balance', ascending = False)"
   ]
  },
  {
   "cell_type": "code",
   "execution_count": 126,
   "id": "015e5134",
   "metadata": {},
   "outputs": [],
   "source": [
    "ordered_q1 = ordered_q1.dropna()"
   ]
  },
  {
   "cell_type": "code",
   "execution_count": 127,
   "id": "0d24b370",
   "metadata": {},
   "outputs": [
    {
     "data": {
      "text/html": [
       "<div>\n",
       "<style scoped>\n",
       "    .dataframe tbody tr th:only-of-type {\n",
       "        vertical-align: middle;\n",
       "    }\n",
       "\n",
       "    .dataframe tbody tr th {\n",
       "        vertical-align: top;\n",
       "    }\n",
       "\n",
       "    .dataframe thead th {\n",
       "        text-align: right;\n",
       "    }\n",
       "</style>\n",
       "<table border=\"1\" class=\"dataframe\">\n",
       "  <thead>\n",
       "    <tr style=\"text-align: right;\">\n",
       "      <th></th>\n",
       "      <th>customer_number</th>\n",
       "      <th>q1_balance</th>\n",
       "    </tr>\n",
       "  </thead>\n",
       "  <tbody>\n",
       "    <tr>\n",
       "      <th>4171</th>\n",
       "      <td>4172</td>\n",
       "      <td>1.0</td>\n",
       "    </tr>\n",
       "  </tbody>\n",
       "</table>\n",
       "</div>"
      ],
      "text/plain": [
       "      customer_number  q1_balance\n",
       "4171             4172         1.0"
      ]
     },
     "execution_count": 127,
     "metadata": {},
     "output_type": "execute_result"
    }
   ],
   "source": [
    "ordered_q1.iloc[[-11]]"
   ]
  },
  {
   "cell_type": "markdown",
   "id": "d71e566d",
   "metadata": {},
   "source": [
    "\n",
    "Dealing with nan\n"
   ]
  },
  {
   "cell_type": "code",
   "execution_count": 129,
   "id": "7c2e4e2f",
   "metadata": {},
   "outputs": [
    {
     "data": {
      "text/plain": [
       "customer_number            0\n",
       "offer_accepted             0\n",
       "reward                     0\n",
       "mailer_type                0\n",
       "income_level               0\n",
       "bank_accounts_open         0\n",
       "overdraft_protection       0\n",
       "credit_rating              0\n",
       "credit_cards_held          0\n",
       "homes_owned                0\n",
       "household_size             0\n",
       "own_your_home              0\n",
       "average_balance           24\n",
       "q1_balance                24\n",
       "q2_balance                24\n",
       "q3_balance                24\n",
       "q4_balance                24\n",
       "customers_balance_view     0\n",
       "dtype: int64"
      ]
     },
     "execution_count": 129,
     "metadata": {},
     "output_type": "execute_result"
    }
   ],
   "source": [
    "card.isnull().sum()"
   ]
  },
  {
   "cell_type": "code",
   "execution_count": 149,
   "id": "82f515bb",
   "metadata": {},
   "outputs": [],
   "source": [
    "card = card.dropna()"
   ]
  },
  {
   "cell_type": "code",
   "execution_count": 151,
   "id": "945d1c67",
   "metadata": {},
   "outputs": [
    {
     "data": {
      "text/plain": [
       "customer_number           0\n",
       "offer_accepted            0\n",
       "reward                    0\n",
       "mailer_type               0\n",
       "income_level              0\n",
       "bank_accounts_open        0\n",
       "overdraft_protection      0\n",
       "credit_rating             0\n",
       "credit_cards_held         0\n",
       "homes_owned               0\n",
       "household_size            0\n",
       "own_your_home             0\n",
       "average_balance           0\n",
       "q1_balance                0\n",
       "q2_balance                0\n",
       "q3_balance                0\n",
       "q4_balance                0\n",
       "customers_balance_view    0\n",
       "dtype: int64"
      ]
     },
     "execution_count": 151,
     "metadata": {},
     "output_type": "execute_result"
    }
   ],
   "source": [
    "card.isnull().sum()"
   ]
  },
  {
   "cell_type": "markdown",
   "id": "1d3d9e9b",
   "metadata": {},
   "source": [
    "\n",
    "\n",
    "Train_Test_split\n"
   ]
  },
  {
   "cell_type": "code",
   "execution_count": 177,
   "id": "028ba856",
   "metadata": {},
   "outputs": [],
   "source": [
    "from sklearn.model_selection import train_test_split\n",
    "\n",
    "\n",
    "X = card.drop('offer_accepted', axis = 1)\n",
    "y = pd.DataFrame(card['offer_accepted'])\n",
    "\n",
    "X_train, X_test, y_train, y_test = train_test_split(X, y, test_size = 0.2, random_state = 150)"
   ]
  },
  {
   "cell_type": "code",
   "execution_count": 192,
   "id": "c8ce07e6",
   "metadata": {},
   "outputs": [
    {
     "name": "stderr",
     "output_type": "stream",
     "text": [
      "C:\\Users\\guill\\AppData\\Local\\Temp\\ipykernel_20720\\2384609928.py:3: DeprecationWarning: `np.object` is a deprecated alias for the builtin `object`. To silence this warning, use `object` by itself. Doing this will not modify any behavior and is safe. \n",
      "Deprecated in NumPy 1.20; for more details and guidance: https://numpy.org/devdocs/release/1.20.0-notes.html#deprecations\n",
      "  X_train_cat = X_train.select_dtypes(include = np.object)\n",
      "C:\\Users\\guill\\AppData\\Local\\Temp\\ipykernel_20720\\2384609928.py:4: DeprecationWarning: `np.object` is a deprecated alias for the builtin `object`. To silence this warning, use `object` by itself. Doing this will not modify any behavior and is safe. \n",
      "Deprecated in NumPy 1.20; for more details and guidance: https://numpy.org/devdocs/release/1.20.0-notes.html#deprecations\n",
      "  X_test_cat = X_test.select_dtypes(include = np.object)\n"
     ]
    }
   ],
   "source": [
    "X_train_num = X_train.select_dtypes(include = np.number)\n",
    "X_test_num = X_test.select_dtypes(include = np.number)\n",
    "X_train_cat = X_train.select_dtypes(include = np.object)\n",
    "X_test_cat = X_test.select_dtypes(include = np.object)"
   ]
  },
  {
   "cell_type": "markdown",
   "id": "37a84b2d",
   "metadata": {},
   "source": [
    "Transforming and encoding"
   ]
  },
  {
   "cell_type": "code",
   "execution_count": 193,
   "id": "6b34130e",
   "metadata": {},
   "outputs": [],
   "source": [
    "from sklearn.preprocessing import MinMaxScaler\n",
    "transformer = MinMaxScaler()\n",
    "\n",
    "X_train_norm = transformer.fit_transform(X_train_num)\n",
    "X_train_norm = pd.DataFrame(X_train_norm, columns = X_train_num.columns)\n",
    "\n",
    "X_test_norm = transformer.fit_transform(X_test_num)\n",
    "X_test_norm = pd.DataFrame(X_test_norm, columns = X_test_num.columns)"
   ]
  },
  {
   "cell_type": "markdown",
   "id": "34ca83b3",
   "metadata": {},
   "source": [
    "One hot encoder"
   ]
  },
  {
   "cell_type": "code",
   "execution_count": 194,
   "id": "6fd95a8a",
   "metadata": {},
   "outputs": [],
   "source": [
    "from sklearn.preprocessing import OneHotEncoder\n",
    "\n",
    "encoder = OneHotEncoder(drop = 'first')\n",
    "\n",
    "X_train_cat_encoded = encoder.fit_transform(X_train_cat).toarray()\n",
    "X_train_cat_encoded = pd.DataFrame(X_train_cat_encoded, columns = encoder.get_feature_names_out())\n",
    "\n",
    "X_test_cat_encoded = encoder.fit_transform(X_test_cat).toarray()\n",
    "X_test_cat_encoded = pd.DataFrame(X_test_cat_encoded, columns = encoder.get_feature_names_out())\n",
    "\n"
   ]
  },
  {
   "cell_type": "code",
   "execution_count": 199,
   "id": "2ff4432e",
   "metadata": {},
   "outputs": [],
   "source": [
    "X_train_trans = np.concatenate([X_train_norm, X_train_cat_encoded], axis = 1)\n",
    "X_test_trans = np.concatenate([X_test_norm, X_test_cat_encoded], axis = 1)\n",
    "\n",
    "X_train_treated = pd.DataFrame(X_train_trans)\n",
    "X_test_treated = pd.DataFrame(X_test_trans)"
   ]
  },
  {
   "cell_type": "code",
   "execution_count": 204,
   "id": "d2892d97",
   "metadata": {
    "collapsed": true
   },
   "outputs": [
    {
     "data": {
      "text/plain": [
       "0     float64\n",
       "1     float64\n",
       "2     float64\n",
       "3     float64\n",
       "4     float64\n",
       "5     float64\n",
       "6     float64\n",
       "7     float64\n",
       "8     float64\n",
       "9     float64\n",
       "10    float64\n",
       "11    float64\n",
       "12    float64\n",
       "13    float64\n",
       "14    float64\n",
       "15    float64\n",
       "16    float64\n",
       "17    float64\n",
       "18    float64\n",
       "19    float64\n",
       "20    float64\n",
       "21    float64\n",
       "dtype: object"
      ]
     },
     "execution_count": 204,
     "metadata": {},
     "output_type": "execute_result"
    }
   ],
   "source": [
    "X_train_treated.dtypes"
   ]
  },
  {
   "cell_type": "code",
   "execution_count": 206,
   "id": "cabc23e2",
   "metadata": {},
   "outputs": [
    {
     "name": "stderr",
     "output_type": "stream",
     "text": [
      "C:\\Users\\guill\\anaconda3\\envs\\mid_project\\lib\\site-packages\\sklearn\\utils\\validation.py:1111: DataConversionWarning: A column-vector y was passed when a 1d array was expected. Please change the shape of y to (n_samples, ), for example using ravel().\n",
      "  y = column_or_1d(y, warn=True)\n"
     ]
    },
    {
     "data": {
      "text/plain": [
       "0.9471635150166852"
      ]
     },
     "execution_count": 206,
     "metadata": {},
     "output_type": "execute_result"
    }
   ],
   "source": [
    "from sklearn.linear_model import LogisticRegression\n",
    "from sklearn.metrics import accuracy_score\n",
    "\n",
    "lr = LogisticRegression(random_state = 150, solver='lbfgs',\n",
    "                  multi_class='multinomial').fit(X_train_treated, y_train)\n",
    "\n",
    "y_test_pred = lr.predict(X_test_treated)\n",
    "\n",
    "accuracy_score(y_test, y_test_pred)"
   ]
  },
  {
   "cell_type": "code",
   "execution_count": null,
   "id": "b50c8267",
   "metadata": {},
   "outputs": [],
   "source": []
  }
 ],
 "metadata": {
  "kernelspec": {
   "display_name": "mid_project",
   "language": "python",
   "name": "mid_project"
  },
  "language_info": {
   "codemirror_mode": {
    "name": "ipython",
    "version": 3
   },
   "file_extension": ".py",
   "mimetype": "text/x-python",
   "name": "python",
   "nbconvert_exporter": "python",
   "pygments_lexer": "ipython3",
   "version": "3.9.12"
  }
 },
 "nbformat": 4,
 "nbformat_minor": 5
}
