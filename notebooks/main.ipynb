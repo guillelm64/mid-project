{
 "cells": [
  {
   "cell_type": "code",
   "execution_count": 1,
   "id": "71b5c58e",
   "metadata": {},
   "outputs": [
    {
     "name": "stderr",
     "output_type": "stream",
     "text": [
      "C:\\Users\\guill\\anaconda3\\envs\\mid_project\\lib\\site-packages\\scipy\\__init__.py:146: UserWarning: A NumPy version >=1.16.5 and <1.23.0 is required for this version of SciPy (detected version 1.23.1\n",
      "  warnings.warn(f\"A NumPy version >={np_minversion} and <{np_maxversion}\"\n"
     ]
    }
   ],
   "source": [
    "import pandas as pd\n",
    "import numpy as np\n",
    "import matplotlib.pyplot as plt\n",
    "import seaborn as sns\n",
    "from sklearn.model_selection import train_test_split\n",
    "from sklearn.preprocessing import OneHotEncoder\n",
    "from sklearn.linear_model import LogisticRegression\n",
    "from sklearn.metrics import accuracy_score, precision_score, recall_score, f1_score, cohen_kappa_score\n",
    "from sklearn.metrics import confusion_matrix, ConfusionMatrixDisplay\n",
    "from imblearn.over_sampling import SMOTE"
   ]
  },
  {
   "cell_type": "code",
   "execution_count": 2,
   "id": "e29291a8",
   "metadata": {
    "scrolled": true
   },
   "outputs": [
    {
     "data": {
      "text/html": [
       "<div>\n",
       "<style scoped>\n",
       "    .dataframe tbody tr th:only-of-type {\n",
       "        vertical-align: middle;\n",
       "    }\n",
       "\n",
       "    .dataframe tbody tr th {\n",
       "        vertical-align: top;\n",
       "    }\n",
       "\n",
       "    .dataframe thead th {\n",
       "        text-align: right;\n",
       "    }\n",
       "</style>\n",
       "<table border=\"1\" class=\"dataframe\">\n",
       "  <thead>\n",
       "    <tr style=\"text-align: right;\">\n",
       "      <th></th>\n",
       "      <th>Customer Number</th>\n",
       "      <th>Offer Accepted</th>\n",
       "      <th>Reward</th>\n",
       "      <th>Mailer Type</th>\n",
       "      <th>Income Level</th>\n",
       "      <th># Bank Accounts Open</th>\n",
       "      <th>Overdraft Protection</th>\n",
       "      <th>Credit Rating</th>\n",
       "      <th># Credit Cards Held</th>\n",
       "      <th># Homes Owned</th>\n",
       "      <th>Household Size</th>\n",
       "      <th>Own Your Home</th>\n",
       "      <th>Average Balance</th>\n",
       "      <th>Q1 Balance</th>\n",
       "      <th>Q2 Balance</th>\n",
       "      <th>Q3 Balance</th>\n",
       "      <th>Q4 Balance</th>\n",
       "    </tr>\n",
       "  </thead>\n",
       "  <tbody>\n",
       "    <tr>\n",
       "      <th>0</th>\n",
       "      <td>1</td>\n",
       "      <td>No</td>\n",
       "      <td>Air Miles</td>\n",
       "      <td>Letter</td>\n",
       "      <td>High</td>\n",
       "      <td>1</td>\n",
       "      <td>No</td>\n",
       "      <td>High</td>\n",
       "      <td>2</td>\n",
       "      <td>1</td>\n",
       "      <td>4</td>\n",
       "      <td>No</td>\n",
       "      <td>1160.75</td>\n",
       "      <td>1669.0</td>\n",
       "      <td>877.0</td>\n",
       "      <td>1095.0</td>\n",
       "      <td>1002.0</td>\n",
       "    </tr>\n",
       "    <tr>\n",
       "      <th>1</th>\n",
       "      <td>2</td>\n",
       "      <td>No</td>\n",
       "      <td>Air Miles</td>\n",
       "      <td>Letter</td>\n",
       "      <td>Medium</td>\n",
       "      <td>1</td>\n",
       "      <td>No</td>\n",
       "      <td>Medium</td>\n",
       "      <td>2</td>\n",
       "      <td>2</td>\n",
       "      <td>5</td>\n",
       "      <td>Yes</td>\n",
       "      <td>147.25</td>\n",
       "      <td>39.0</td>\n",
       "      <td>106.0</td>\n",
       "      <td>78.0</td>\n",
       "      <td>366.0</td>\n",
       "    </tr>\n",
       "    <tr>\n",
       "      <th>2</th>\n",
       "      <td>3</td>\n",
       "      <td>No</td>\n",
       "      <td>Air Miles</td>\n",
       "      <td>Postcard</td>\n",
       "      <td>High</td>\n",
       "      <td>2</td>\n",
       "      <td>No</td>\n",
       "      <td>Medium</td>\n",
       "      <td>2</td>\n",
       "      <td>1</td>\n",
       "      <td>2</td>\n",
       "      <td>Yes</td>\n",
       "      <td>276.50</td>\n",
       "      <td>367.0</td>\n",
       "      <td>352.0</td>\n",
       "      <td>145.0</td>\n",
       "      <td>242.0</td>\n",
       "    </tr>\n",
       "    <tr>\n",
       "      <th>3</th>\n",
       "      <td>4</td>\n",
       "      <td>No</td>\n",
       "      <td>Air Miles</td>\n",
       "      <td>Letter</td>\n",
       "      <td>Medium</td>\n",
       "      <td>2</td>\n",
       "      <td>No</td>\n",
       "      <td>High</td>\n",
       "      <td>1</td>\n",
       "      <td>1</td>\n",
       "      <td>4</td>\n",
       "      <td>No</td>\n",
       "      <td>1219.00</td>\n",
       "      <td>1578.0</td>\n",
       "      <td>1760.0</td>\n",
       "      <td>1119.0</td>\n",
       "      <td>419.0</td>\n",
       "    </tr>\n",
       "    <tr>\n",
       "      <th>4</th>\n",
       "      <td>5</td>\n",
       "      <td>No</td>\n",
       "      <td>Air Miles</td>\n",
       "      <td>Letter</td>\n",
       "      <td>Medium</td>\n",
       "      <td>1</td>\n",
       "      <td>No</td>\n",
       "      <td>Medium</td>\n",
       "      <td>2</td>\n",
       "      <td>1</td>\n",
       "      <td>6</td>\n",
       "      <td>Yes</td>\n",
       "      <td>1211.00</td>\n",
       "      <td>2140.0</td>\n",
       "      <td>1357.0</td>\n",
       "      <td>982.0</td>\n",
       "      <td>365.0</td>\n",
       "    </tr>\n",
       "  </tbody>\n",
       "</table>\n",
       "</div>"
      ],
      "text/plain": [
       "   Customer Number Offer Accepted     Reward Mailer Type Income Level  \\\n",
       "0                1             No  Air Miles      Letter         High   \n",
       "1                2             No  Air Miles      Letter       Medium   \n",
       "2                3             No  Air Miles    Postcard         High   \n",
       "3                4             No  Air Miles      Letter       Medium   \n",
       "4                5             No  Air Miles      Letter       Medium   \n",
       "\n",
       "   # Bank Accounts Open Overdraft Protection Credit Rating  \\\n",
       "0                     1                   No          High   \n",
       "1                     1                   No        Medium   \n",
       "2                     2                   No        Medium   \n",
       "3                     2                   No          High   \n",
       "4                     1                   No        Medium   \n",
       "\n",
       "   # Credit Cards Held  # Homes Owned  Household Size Own Your Home  \\\n",
       "0                    2              1               4            No   \n",
       "1                    2              2               5           Yes   \n",
       "2                    2              1               2           Yes   \n",
       "3                    1              1               4            No   \n",
       "4                    2              1               6           Yes   \n",
       "\n",
       "   Average Balance  Q1 Balance  Q2 Balance  Q3 Balance  Q4 Balance  \n",
       "0          1160.75      1669.0       877.0      1095.0      1002.0  \n",
       "1           147.25        39.0       106.0        78.0       366.0  \n",
       "2           276.50       367.0       352.0       145.0       242.0  \n",
       "3          1219.00      1578.0      1760.0      1119.0       419.0  \n",
       "4          1211.00      2140.0      1357.0       982.0       365.0  "
      ]
     },
     "execution_count": 2,
     "metadata": {},
     "output_type": "execute_result"
    }
   ],
   "source": [
    "card = pd.read_excel('../data/raw/creditmarketing_names.xlsx')\n",
    "card.head()"
   ]
  },
  {
   "cell_type": "code",
   "execution_count": 3,
   "id": "04806f79",
   "metadata": {
    "scrolled": false
   },
   "outputs": [],
   "source": [
    "def lower_lower_clear(df):\n",
    "    df.columns = df.columns.str.replace(' ', '_')\n",
    "    df.columns = df.columns.str.lower()\n",
    "    df.columns = df.columns.str.replace('#_', '')\n",
    "lower_lower_clear(card)"
   ]
  },
  {
   "cell_type": "code",
   "execution_count": 4,
   "id": "3e3b78d5",
   "metadata": {},
   "outputs": [
    {
     "data": {
      "text/plain": [
       "No     15322\n",
       "Yes     2678\n",
       "Name: overdraft_protection, dtype: int64"
      ]
     },
     "execution_count": 4,
     "metadata": {},
     "output_type": "execute_result"
    }
   ],
   "source": [
    "card['overdraft_protection'].value_counts()"
   ]
  },
  {
   "cell_type": "code",
   "execution_count": 5,
   "id": "70850779",
   "metadata": {
    "scrolled": true
   },
   "outputs": [
    {
     "data": {
      "text/html": [
       "<div>\n",
       "<style scoped>\n",
       "    .dataframe tbody tr th:only-of-type {\n",
       "        vertical-align: middle;\n",
       "    }\n",
       "\n",
       "    .dataframe tbody tr th {\n",
       "        vertical-align: top;\n",
       "    }\n",
       "\n",
       "    .dataframe thead th {\n",
       "        text-align: right;\n",
       "    }\n",
       "</style>\n",
       "<table border=\"1\" class=\"dataframe\">\n",
       "  <thead>\n",
       "    <tr style=\"text-align: right;\">\n",
       "      <th></th>\n",
       "      <th>customer_number</th>\n",
       "      <th>offer_accepted</th>\n",
       "      <th>reward</th>\n",
       "      <th>mailer_type</th>\n",
       "      <th>income_level</th>\n",
       "      <th>bank_accounts_open</th>\n",
       "      <th>overdraft_protection</th>\n",
       "      <th>credit_rating</th>\n",
       "      <th>credit_cards_held</th>\n",
       "      <th>homes_owned</th>\n",
       "      <th>household_size</th>\n",
       "      <th>own_your_home</th>\n",
       "      <th>average_balance</th>\n",
       "      <th>q1_balance</th>\n",
       "      <th>q2_balance</th>\n",
       "      <th>q3_balance</th>\n",
       "      <th>q4_balance</th>\n",
       "    </tr>\n",
       "  </thead>\n",
       "  <tbody>\n",
       "    <tr>\n",
       "      <th>0</th>\n",
       "      <td>1</td>\n",
       "      <td>No</td>\n",
       "      <td>Air Miles</td>\n",
       "      <td>Letter</td>\n",
       "      <td>High</td>\n",
       "      <td>1</td>\n",
       "      <td>No</td>\n",
       "      <td>High</td>\n",
       "      <td>2</td>\n",
       "      <td>1</td>\n",
       "      <td>4</td>\n",
       "      <td>No</td>\n",
       "      <td>1160.75</td>\n",
       "      <td>1669.0</td>\n",
       "      <td>877.0</td>\n",
       "      <td>1095.0</td>\n",
       "      <td>1002.0</td>\n",
       "    </tr>\n",
       "    <tr>\n",
       "      <th>1</th>\n",
       "      <td>2</td>\n",
       "      <td>No</td>\n",
       "      <td>Air Miles</td>\n",
       "      <td>Letter</td>\n",
       "      <td>Medium</td>\n",
       "      <td>1</td>\n",
       "      <td>No</td>\n",
       "      <td>Medium</td>\n",
       "      <td>2</td>\n",
       "      <td>2</td>\n",
       "      <td>5</td>\n",
       "      <td>Yes</td>\n",
       "      <td>147.25</td>\n",
       "      <td>39.0</td>\n",
       "      <td>106.0</td>\n",
       "      <td>78.0</td>\n",
       "      <td>366.0</td>\n",
       "    </tr>\n",
       "    <tr>\n",
       "      <th>2</th>\n",
       "      <td>3</td>\n",
       "      <td>No</td>\n",
       "      <td>Air Miles</td>\n",
       "      <td>Postcard</td>\n",
       "      <td>High</td>\n",
       "      <td>2</td>\n",
       "      <td>No</td>\n",
       "      <td>Medium</td>\n",
       "      <td>2</td>\n",
       "      <td>1</td>\n",
       "      <td>2</td>\n",
       "      <td>Yes</td>\n",
       "      <td>276.50</td>\n",
       "      <td>367.0</td>\n",
       "      <td>352.0</td>\n",
       "      <td>145.0</td>\n",
       "      <td>242.0</td>\n",
       "    </tr>\n",
       "    <tr>\n",
       "      <th>3</th>\n",
       "      <td>4</td>\n",
       "      <td>No</td>\n",
       "      <td>Air Miles</td>\n",
       "      <td>Letter</td>\n",
       "      <td>Medium</td>\n",
       "      <td>2</td>\n",
       "      <td>No</td>\n",
       "      <td>High</td>\n",
       "      <td>1</td>\n",
       "      <td>1</td>\n",
       "      <td>4</td>\n",
       "      <td>No</td>\n",
       "      <td>1219.00</td>\n",
       "      <td>1578.0</td>\n",
       "      <td>1760.0</td>\n",
       "      <td>1119.0</td>\n",
       "      <td>419.0</td>\n",
       "    </tr>\n",
       "    <tr>\n",
       "      <th>4</th>\n",
       "      <td>5</td>\n",
       "      <td>No</td>\n",
       "      <td>Air Miles</td>\n",
       "      <td>Letter</td>\n",
       "      <td>Medium</td>\n",
       "      <td>1</td>\n",
       "      <td>No</td>\n",
       "      <td>Medium</td>\n",
       "      <td>2</td>\n",
       "      <td>1</td>\n",
       "      <td>6</td>\n",
       "      <td>Yes</td>\n",
       "      <td>1211.00</td>\n",
       "      <td>2140.0</td>\n",
       "      <td>1357.0</td>\n",
       "      <td>982.0</td>\n",
       "      <td>365.0</td>\n",
       "    </tr>\n",
       "  </tbody>\n",
       "</table>\n",
       "</div>"
      ],
      "text/plain": [
       "   customer_number offer_accepted     reward mailer_type income_level  \\\n",
       "0                1             No  Air Miles      Letter         High   \n",
       "1                2             No  Air Miles      Letter       Medium   \n",
       "2                3             No  Air Miles    Postcard         High   \n",
       "3                4             No  Air Miles      Letter       Medium   \n",
       "4                5             No  Air Miles      Letter       Medium   \n",
       "\n",
       "   bank_accounts_open overdraft_protection credit_rating  credit_cards_held  \\\n",
       "0                   1                   No          High                  2   \n",
       "1                   1                   No        Medium                  2   \n",
       "2                   2                   No        Medium                  2   \n",
       "3                   2                   No          High                  1   \n",
       "4                   1                   No        Medium                  2   \n",
       "\n",
       "   homes_owned  household_size own_your_home  average_balance  q1_balance  \\\n",
       "0            1               4            No          1160.75      1669.0   \n",
       "1            2               5           Yes           147.25        39.0   \n",
       "2            1               2           Yes           276.50       367.0   \n",
       "3            1               4            No          1219.00      1578.0   \n",
       "4            1               6           Yes          1211.00      2140.0   \n",
       "\n",
       "   q2_balance  q3_balance  q4_balance  \n",
       "0       877.0      1095.0      1002.0  \n",
       "1       106.0        78.0       366.0  \n",
       "2       352.0       145.0       242.0  \n",
       "3      1760.0      1119.0       419.0  \n",
       "4      1357.0       982.0       365.0  "
      ]
     },
     "execution_count": 5,
     "metadata": {},
     "output_type": "execute_result"
    }
   ],
   "source": [
    "card.head()"
   ]
  },
  {
   "cell_type": "markdown",
   "id": "e23ae559",
   "metadata": {},
   "source": [
    "Finding number of rows "
   ]
  },
  {
   "cell_type": "code",
   "execution_count": 6,
   "id": "37a290af",
   "metadata": {},
   "outputs": [
    {
     "data": {
      "text/plain": [
       "(18000, 17)"
      ]
     },
     "execution_count": 6,
     "metadata": {},
     "output_type": "execute_result"
    }
   ],
   "source": [
    "card.shape"
   ]
  },
  {
   "cell_type": "markdown",
   "id": "6a40d802",
   "metadata": {},
   "source": [
    "Finding out unique values"
   ]
  },
  {
   "cell_type": "code",
   "execution_count": 7,
   "id": "46d5e0aa",
   "metadata": {},
   "outputs": [
    {
     "name": "stdout",
     "output_type": "stream",
     "text": [
      "No     16977\n",
      "Yes     1023\n",
      "Name: offer_accepted, dtype: int64 \n",
      " ------------------\n",
      "Air Miles    6061\n",
      "Cash Back    5999\n",
      "Points       5940\n",
      "Name: reward, dtype: int64 \n",
      " ------------------\n",
      "Postcard    9147\n",
      "Letter      8853\n",
      "Name: mailer_type, dtype: int64 \n",
      " ------------------\n",
      "2    7944\n",
      "1    6154\n",
      "3    3387\n",
      "4     515\n",
      "Name: credit_cards_held, dtype: int64 \n",
      " ------------------\n",
      "3    5712\n",
      "4    5543\n",
      "5    2853\n",
      "2    2813\n",
      "1     539\n",
      "6     538\n",
      "8       1\n",
      "9       1\n",
      "Name: household_size, dtype: int64 \n",
      " ------------------\n"
     ]
    }
   ],
   "source": [
    "for i in card[['offer_accepted', 'reward', 'mailer_type', 'credit_cards_held', 'household_size']]:\n",
    "    print(card[i].value_counts(), '\\n ------------------')"
   ]
  },
  {
   "cell_type": "code",
   "execution_count": 8,
   "id": "92378534",
   "metadata": {},
   "outputs": [
    {
     "data": {
      "text/html": [
       "<div>\n",
       "<style scoped>\n",
       "    .dataframe tbody tr th:only-of-type {\n",
       "        vertical-align: middle;\n",
       "    }\n",
       "\n",
       "    .dataframe tbody tr th {\n",
       "        vertical-align: top;\n",
       "    }\n",
       "\n",
       "    .dataframe thead th {\n",
       "        text-align: right;\n",
       "    }\n",
       "</style>\n",
       "<table border=\"1\" class=\"dataframe\">\n",
       "  <thead>\n",
       "    <tr style=\"text-align: right;\">\n",
       "      <th></th>\n",
       "      <th>average_balance</th>\n",
       "    </tr>\n",
       "    <tr>\n",
       "      <th>income_level</th>\n",
       "      <th></th>\n",
       "    </tr>\n",
       "  </thead>\n",
       "  <tbody>\n",
       "    <tr>\n",
       "      <th>High</th>\n",
       "      <td>4259492.00</td>\n",
       "    </tr>\n",
       "    <tr>\n",
       "      <th>Low</th>\n",
       "      <td>4177297.50</td>\n",
       "    </tr>\n",
       "    <tr>\n",
       "      <th>Medium</th>\n",
       "      <td>8469918.25</td>\n",
       "    </tr>\n",
       "  </tbody>\n",
       "</table>\n",
       "</div>"
      ],
      "text/plain": [
       "              average_balance\n",
       "income_level                 \n",
       "High               4259492.00\n",
       "Low                4177297.50\n",
       "Medium             8469918.25"
      ]
     },
     "execution_count": 8,
     "metadata": {},
     "output_type": "execute_result"
    }
   ],
   "source": [
    "card.groupby(['income_level']).agg({'average_balance' : 'sum'})"
   ]
  },
  {
   "cell_type": "markdown",
   "id": "55f6e1ee",
   "metadata": {},
   "source": [
    "Return first 10 customer_number in decreasing order with highest average balance, ordered by average balance"
   ]
  },
  {
   "cell_type": "code",
   "execution_count": 9,
   "id": "2fe79e8f",
   "metadata": {},
   "outputs": [
    {
     "data": {
      "text/html": [
       "<div>\n",
       "<style scoped>\n",
       "    .dataframe tbody tr th:only-of-type {\n",
       "        vertical-align: middle;\n",
       "    }\n",
       "\n",
       "    .dataframe tbody tr th {\n",
       "        vertical-align: top;\n",
       "    }\n",
       "\n",
       "    .dataframe thead th {\n",
       "        text-align: right;\n",
       "    }\n",
       "</style>\n",
       "<table border=\"1\" class=\"dataframe\">\n",
       "  <thead>\n",
       "    <tr style=\"text-align: right;\">\n",
       "      <th></th>\n",
       "      <th>customer_number</th>\n",
       "      <th>average_balance</th>\n",
       "    </tr>\n",
       "  </thead>\n",
       "  <tbody>\n",
       "    <tr>\n",
       "      <th>2296</th>\n",
       "      <td>2297</td>\n",
       "      <td>3366.25</td>\n",
       "    </tr>\n",
       "    <tr>\n",
       "      <th>12635</th>\n",
       "      <td>12636</td>\n",
       "      <td>2948.50</td>\n",
       "    </tr>\n",
       "    <tr>\n",
       "      <th>8887</th>\n",
       "      <td>8888</td>\n",
       "      <td>2738.50</td>\n",
       "    </tr>\n",
       "    <tr>\n",
       "      <th>10576</th>\n",
       "      <td>10577</td>\n",
       "      <td>2609.50</td>\n",
       "    </tr>\n",
       "    <tr>\n",
       "      <th>14003</th>\n",
       "      <td>14004</td>\n",
       "      <td>2437.50</td>\n",
       "    </tr>\n",
       "    <tr>\n",
       "      <th>10475</th>\n",
       "      <td>10476</td>\n",
       "      <td>2430.00</td>\n",
       "    </tr>\n",
       "    <tr>\n",
       "      <th>2655</th>\n",
       "      <td>2656</td>\n",
       "      <td>2336.75</td>\n",
       "    </tr>\n",
       "    <tr>\n",
       "      <th>15259</th>\n",
       "      <td>15260</td>\n",
       "      <td>2320.50</td>\n",
       "    </tr>\n",
       "    <tr>\n",
       "      <th>15608</th>\n",
       "      <td>15609</td>\n",
       "      <td>2271.50</td>\n",
       "    </tr>\n",
       "    <tr>\n",
       "      <th>8777</th>\n",
       "      <td>8778</td>\n",
       "      <td>2073.25</td>\n",
       "    </tr>\n",
       "  </tbody>\n",
       "</table>\n",
       "</div>"
      ],
      "text/plain": [
       "       customer_number  average_balance\n",
       "2296              2297          3366.25\n",
       "12635            12636          2948.50\n",
       "8887              8888          2738.50\n",
       "10576            10577          2609.50\n",
       "14003            14004          2437.50\n",
       "10475            10476          2430.00\n",
       "2655              2656          2336.75\n",
       "15259            15260          2320.50\n",
       "15608            15609          2271.50\n",
       "8777              8778          2073.25"
      ]
     },
     "execution_count": 9,
     "metadata": {},
     "output_type": "execute_result"
    }
   ],
   "source": [
    "card[['customer_number', 'average_balance']].sort_values(by = 'average_balance', ascending = False).head(10)"
   ]
  },
  {
   "cell_type": "markdown",
   "id": "3ffb90d5",
   "metadata": {},
   "source": [
    "Getting average balance of each customer and total average"
   ]
  },
  {
   "cell_type": "code",
   "execution_count": 10,
   "id": "810691d7",
   "metadata": {},
   "outputs": [
    {
     "data": {
      "text/html": [
       "<div>\n",
       "<style scoped>\n",
       "    .dataframe tbody tr th:only-of-type {\n",
       "        vertical-align: middle;\n",
       "    }\n",
       "\n",
       "    .dataframe tbody tr th {\n",
       "        vertical-align: top;\n",
       "    }\n",
       "\n",
       "    .dataframe thead th {\n",
       "        text-align: right;\n",
       "    }\n",
       "</style>\n",
       "<table border=\"1\" class=\"dataframe\">\n",
       "  <thead>\n",
       "    <tr style=\"text-align: right;\">\n",
       "      <th></th>\n",
       "      <th>average_balance</th>\n",
       "    </tr>\n",
       "    <tr>\n",
       "      <th>customer_number</th>\n",
       "      <th></th>\n",
       "    </tr>\n",
       "  </thead>\n",
       "  <tbody>\n",
       "    <tr>\n",
       "      <th>1</th>\n",
       "      <td>1160.75</td>\n",
       "    </tr>\n",
       "    <tr>\n",
       "      <th>2</th>\n",
       "      <td>147.25</td>\n",
       "    </tr>\n",
       "    <tr>\n",
       "      <th>3</th>\n",
       "      <td>276.50</td>\n",
       "    </tr>\n",
       "    <tr>\n",
       "      <th>4</th>\n",
       "      <td>1219.00</td>\n",
       "    </tr>\n",
       "    <tr>\n",
       "      <th>5</th>\n",
       "      <td>1211.00</td>\n",
       "    </tr>\n",
       "    <tr>\n",
       "      <th>...</th>\n",
       "      <td>...</td>\n",
       "    </tr>\n",
       "    <tr>\n",
       "      <th>17996</th>\n",
       "      <td>167.50</td>\n",
       "    </tr>\n",
       "    <tr>\n",
       "      <th>17997</th>\n",
       "      <td>850.50</td>\n",
       "    </tr>\n",
       "    <tr>\n",
       "      <th>17998</th>\n",
       "      <td>1087.25</td>\n",
       "    </tr>\n",
       "    <tr>\n",
       "      <th>17999</th>\n",
       "      <td>1022.25</td>\n",
       "    </tr>\n",
       "    <tr>\n",
       "      <th>18000</th>\n",
       "      <td>1056.00</td>\n",
       "    </tr>\n",
       "  </tbody>\n",
       "</table>\n",
       "<p>18000 rows × 1 columns</p>\n",
       "</div>"
      ],
      "text/plain": [
       "                 average_balance\n",
       "customer_number                 \n",
       "1                        1160.75\n",
       "2                         147.25\n",
       "3                         276.50\n",
       "4                        1219.00\n",
       "5                        1211.00\n",
       "...                          ...\n",
       "17996                     167.50\n",
       "17997                     850.50\n",
       "17998                    1087.25\n",
       "17999                    1022.25\n",
       "18000                    1056.00\n",
       "\n",
       "[18000 rows x 1 columns]"
      ]
     },
     "execution_count": 10,
     "metadata": {},
     "output_type": "execute_result"
    }
   ],
   "source": [
    "card.groupby(['customer_number']).agg({'average_balance': 'mean'})"
   ]
  },
  {
   "cell_type": "code",
   "execution_count": 11,
   "id": "2eec63d8",
   "metadata": {},
   "outputs": [
    {
     "data": {
      "text/plain": [
       "940.5155624165554"
      ]
     },
     "execution_count": 11,
     "metadata": {},
     "output_type": "execute_result"
    }
   ],
   "source": [
    "card['average_balance'].mean()"
   ]
  },
  {
   "cell_type": "markdown",
   "id": "447a573e",
   "metadata": {},
   "source": [
    "\n",
    "\n",
    "average_balance of customers grouped by income_level\n",
    "\n"
   ]
  },
  {
   "cell_type": "code",
   "execution_count": 12,
   "id": "013d4ccb",
   "metadata": {},
   "outputs": [
    {
     "data": {
      "text/html": [
       "<div>\n",
       "<style scoped>\n",
       "    .dataframe tbody tr th:only-of-type {\n",
       "        vertical-align: middle;\n",
       "    }\n",
       "\n",
       "    .dataframe tbody tr th {\n",
       "        vertical-align: top;\n",
       "    }\n",
       "\n",
       "    .dataframe thead th {\n",
       "        text-align: right;\n",
       "    }\n",
       "</style>\n",
       "<table border=\"1\" class=\"dataframe\">\n",
       "  <thead>\n",
       "    <tr style=\"text-align: right;\">\n",
       "      <th></th>\n",
       "      <th>average_balance</th>\n",
       "    </tr>\n",
       "    <tr>\n",
       "      <th>income_level</th>\n",
       "      <th></th>\n",
       "    </tr>\n",
       "  </thead>\n",
       "  <tbody>\n",
       "    <tr>\n",
       "      <th>High</th>\n",
       "      <td>942.574021</td>\n",
       "    </tr>\n",
       "    <tr>\n",
       "      <th>Low</th>\n",
       "      <td>937.664983</td>\n",
       "    </tr>\n",
       "    <tr>\n",
       "      <th>Medium</th>\n",
       "      <td>940.892940</td>\n",
       "    </tr>\n",
       "  </tbody>\n",
       "</table>\n",
       "</div>"
      ],
      "text/plain": [
       "              average_balance\n",
       "income_level                 \n",
       "High               942.574021\n",
       "Low                937.664983\n",
       "Medium             940.892940"
      ]
     },
     "execution_count": 12,
     "metadata": {},
     "output_type": "execute_result"
    }
   ],
   "source": [
    "card.groupby(['income_level']).agg({'average_balance': 'mean'})"
   ]
  },
  {
   "cell_type": "markdown",
   "id": "02bba85e",
   "metadata": {},
   "source": [
    "\n",
    "\n",
    "average_balance of customers grouped by bank_accounts_open\n",
    "\n"
   ]
  },
  {
   "cell_type": "code",
   "execution_count": 13,
   "id": "c616caef",
   "metadata": {},
   "outputs": [
    {
     "data": {
      "text/html": [
       "<div>\n",
       "<style scoped>\n",
       "    .dataframe tbody tr th:only-of-type {\n",
       "        vertical-align: middle;\n",
       "    }\n",
       "\n",
       "    .dataframe tbody tr th {\n",
       "        vertical-align: top;\n",
       "    }\n",
       "\n",
       "    .dataframe thead th {\n",
       "        text-align: right;\n",
       "    }\n",
       "</style>\n",
       "<table border=\"1\" class=\"dataframe\">\n",
       "  <thead>\n",
       "    <tr style=\"text-align: right;\">\n",
       "      <th></th>\n",
       "      <th>average_balance</th>\n",
       "    </tr>\n",
       "    <tr>\n",
       "      <th>bank_accounts_open</th>\n",
       "      <th></th>\n",
       "    </tr>\n",
       "  </thead>\n",
       "  <tbody>\n",
       "    <tr>\n",
       "      <th>1</th>\n",
       "      <td>941.533604</td>\n",
       "    </tr>\n",
       "    <tr>\n",
       "      <th>2</th>\n",
       "      <td>936.469491</td>\n",
       "    </tr>\n",
       "    <tr>\n",
       "      <th>3</th>\n",
       "      <td>948.284746</td>\n",
       "    </tr>\n",
       "  </tbody>\n",
       "</table>\n",
       "</div>"
      ],
      "text/plain": [
       "                    average_balance\n",
       "bank_accounts_open                 \n",
       "1                        941.533604\n",
       "2                        936.469491\n",
       "3                        948.284746"
      ]
     },
     "execution_count": 13,
     "metadata": {},
     "output_type": "execute_result"
    }
   ],
   "source": [
    "card.groupby(['bank_accounts_open']).agg({'average_balance': 'mean'})"
   ]
  },
  {
   "cell_type": "markdown",
   "id": "c3b8dcc6",
   "metadata": {},
   "source": [
    "\n",
    "\n",
    "average number of credit cards held by customers for each credit card rating\n",
    "\n"
   ]
  },
  {
   "cell_type": "code",
   "execution_count": 14,
   "id": "92516299",
   "metadata": {},
   "outputs": [
    {
     "data": {
      "text/html": [
       "<div>\n",
       "<style scoped>\n",
       "    .dataframe tbody tr th:only-of-type {\n",
       "        vertical-align: middle;\n",
       "    }\n",
       "\n",
       "    .dataframe tbody tr th {\n",
       "        vertical-align: top;\n",
       "    }\n",
       "\n",
       "    .dataframe thead th {\n",
       "        text-align: right;\n",
       "    }\n",
       "</style>\n",
       "<table border=\"1\" class=\"dataframe\">\n",
       "  <thead>\n",
       "    <tr style=\"text-align: right;\">\n",
       "      <th></th>\n",
       "      <th>credit_cards_held</th>\n",
       "    </tr>\n",
       "    <tr>\n",
       "      <th>credit_rating</th>\n",
       "      <th></th>\n",
       "    </tr>\n",
       "  </thead>\n",
       "  <tbody>\n",
       "    <tr>\n",
       "      <th>High</th>\n",
       "      <td>1.895240</td>\n",
       "    </tr>\n",
       "    <tr>\n",
       "      <th>Low</th>\n",
       "      <td>1.903811</td>\n",
       "    </tr>\n",
       "    <tr>\n",
       "      <th>Medium</th>\n",
       "      <td>1.911587</td>\n",
       "    </tr>\n",
       "  </tbody>\n",
       "</table>\n",
       "</div>"
      ],
      "text/plain": [
       "               credit_cards_held\n",
       "credit_rating                   \n",
       "High                    1.895240\n",
       "Low                     1.903811\n",
       "Medium                  1.911587"
      ]
     },
     "execution_count": 14,
     "metadata": {},
     "output_type": "execute_result"
    }
   ],
   "source": [
    "card.groupby(['credit_rating']).agg({'credit_cards_held': 'mean'})"
   ]
  },
  {
   "cell_type": "markdown",
   "id": "9f9e7994",
   "metadata": {},
   "source": [
    "\n",
    "\n",
    "Checking if there is any correlation between credit_cards_held and bank_accounts_open\n",
    "\n",
    "As it can be seen below, there are none"
   ]
  },
  {
   "cell_type": "code",
   "execution_count": 15,
   "id": "d4adf724",
   "metadata": {},
   "outputs": [],
   "source": [
    "corr = card['credit_cards_held'].corr(card['bank_accounts_open'])"
   ]
  },
  {
   "cell_type": "code",
   "execution_count": 16,
   "id": "baf066ec",
   "metadata": {},
   "outputs": [
    {
     "data": {
      "image/png": "[encoded data removed]",
      "text/plain": [
       "<Figure size 720x576 with 2 Axes>"
      ]
     },
     "metadata": {
      "needs_background": "light"
     },
     "output_type": "display_data"
    }
   ],
   "source": [
    "%matplotlib inline\n",
    "corr_matrix=card.corr(method='pearson')  \n",
    "fig, ax = plt.subplots(figsize=(10, 8))\n",
    "ax = sns.heatmap(corr_matrix, annot=True)\n",
    "plt.show()"
   ]
  },
  {
   "cell_type": "markdown",
   "id": "da4853ed",
   "metadata": {},
   "source": [
    "\n",
    "Data filtered by:\n",
    "        - Credit rating medium or high\n",
    "        - Credit cards held 2 or less\n",
    "        - Owns their own home\n",
    "        - Household size 3 or more\n",
    "Checking out how many customers answered Yes to the offer(offer_accepted column)\n"
   ]
  },
  {
   "cell_type": "code",
   "execution_count": 17,
   "id": "3bbb25fd",
   "metadata": {},
   "outputs": [],
   "source": [
    "main_parameters = card.loc[(card['credit_cards_held'] <= 2) & (card['own_your_home'] == 'Yes') & (card['household_size'] >= 3) \n",
    "         & ((card['credit_rating'] == 'High') | (card['credit_rating'] == 'Medium'))].head()"
   ]
  },
  {
   "cell_type": "code",
   "execution_count": 18,
   "id": "92796ed6",
   "metadata": {},
   "outputs": [
    {
     "data": {
      "text/plain": [
       "No    5\n",
       "Name: offer_accepted, dtype: int64"
      ]
     },
     "execution_count": 18,
     "metadata": {},
     "output_type": "execute_result"
    }
   ],
   "source": [
    "main_parameters['offer_accepted'].value_counts()"
   ]
  },
  {
   "cell_type": "markdown",
   "id": "1418d9d4",
   "metadata": {},
   "source": [
    "There are no 'Yes' in the column offer_accepted from the filtered data"
   ]
  },
  {
   "cell_type": "markdown",
   "id": "4e50e5fc",
   "metadata": {},
   "source": [
    "\n",
    "\n",
    "Filtering the customers whom average balance is below the average balance of the whole.\n",
    "\n"
   ]
  },
  {
   "cell_type": "code",
   "execution_count": 19,
   "id": "cfdd6c47",
   "metadata": {},
   "outputs": [],
   "source": [
    "general_mean = card['average_balance'].mean()"
   ]
  },
  {
   "cell_type": "code",
   "execution_count": 20,
   "id": "63a004b1",
   "metadata": {},
   "outputs": [
    {
     "data": {
      "text/html": [
       "<div>\n",
       "<style scoped>\n",
       "    .dataframe tbody tr th:only-of-type {\n",
       "        vertical-align: middle;\n",
       "    }\n",
       "\n",
       "    .dataframe tbody tr th {\n",
       "        vertical-align: top;\n",
       "    }\n",
       "\n",
       "    .dataframe thead th {\n",
       "        text-align: right;\n",
       "    }\n",
       "</style>\n",
       "<table border=\"1\" class=\"dataframe\">\n",
       "  <thead>\n",
       "    <tr style=\"text-align: right;\">\n",
       "      <th></th>\n",
       "      <th>customer_number</th>\n",
       "      <th>offer_accepted</th>\n",
       "      <th>reward</th>\n",
       "      <th>mailer_type</th>\n",
       "      <th>income_level</th>\n",
       "      <th>bank_accounts_open</th>\n",
       "      <th>overdraft_protection</th>\n",
       "      <th>credit_rating</th>\n",
       "      <th>credit_cards_held</th>\n",
       "      <th>homes_owned</th>\n",
       "      <th>household_size</th>\n",
       "      <th>own_your_home</th>\n",
       "      <th>average_balance</th>\n",
       "      <th>q1_balance</th>\n",
       "      <th>q2_balance</th>\n",
       "      <th>q3_balance</th>\n",
       "      <th>q4_balance</th>\n",
       "    </tr>\n",
       "  </thead>\n",
       "  <tbody>\n",
       "    <tr>\n",
       "      <th>1</th>\n",
       "      <td>2</td>\n",
       "      <td>No</td>\n",
       "      <td>Air Miles</td>\n",
       "      <td>Letter</td>\n",
       "      <td>Medium</td>\n",
       "      <td>1</td>\n",
       "      <td>No</td>\n",
       "      <td>Medium</td>\n",
       "      <td>2</td>\n",
       "      <td>2</td>\n",
       "      <td>5</td>\n",
       "      <td>Yes</td>\n",
       "      <td>147.25</td>\n",
       "      <td>39.0</td>\n",
       "      <td>106.0</td>\n",
       "      <td>78.0</td>\n",
       "      <td>366.0</td>\n",
       "    </tr>\n",
       "    <tr>\n",
       "      <th>2</th>\n",
       "      <td>3</td>\n",
       "      <td>No</td>\n",
       "      <td>Air Miles</td>\n",
       "      <td>Postcard</td>\n",
       "      <td>High</td>\n",
       "      <td>2</td>\n",
       "      <td>No</td>\n",
       "      <td>Medium</td>\n",
       "      <td>2</td>\n",
       "      <td>1</td>\n",
       "      <td>2</td>\n",
       "      <td>Yes</td>\n",
       "      <td>276.50</td>\n",
       "      <td>367.0</td>\n",
       "      <td>352.0</td>\n",
       "      <td>145.0</td>\n",
       "      <td>242.0</td>\n",
       "    </tr>\n",
       "    <tr>\n",
       "      <th>6</th>\n",
       "      <td>7</td>\n",
       "      <td>No</td>\n",
       "      <td>Air Miles</td>\n",
       "      <td>Letter</td>\n",
       "      <td>Medium</td>\n",
       "      <td>1</td>\n",
       "      <td>No</td>\n",
       "      <td>Medium</td>\n",
       "      <td>2</td>\n",
       "      <td>1</td>\n",
       "      <td>3</td>\n",
       "      <td>No</td>\n",
       "      <td>283.75</td>\n",
       "      <td>468.0</td>\n",
       "      <td>188.0</td>\n",
       "      <td>347.0</td>\n",
       "      <td>132.0</td>\n",
       "    </tr>\n",
       "    <tr>\n",
       "      <th>7</th>\n",
       "      <td>8</td>\n",
       "      <td>No</td>\n",
       "      <td>Cash Back</td>\n",
       "      <td>Postcard</td>\n",
       "      <td>Low</td>\n",
       "      <td>1</td>\n",
       "      <td>No</td>\n",
       "      <td>Medium</td>\n",
       "      <td>4</td>\n",
       "      <td>1</td>\n",
       "      <td>4</td>\n",
       "      <td>Yes</td>\n",
       "      <td>278.50</td>\n",
       "      <td>132.0</td>\n",
       "      <td>391.0</td>\n",
       "      <td>285.0</td>\n",
       "      <td>306.0</td>\n",
       "    </tr>\n",
       "    <tr>\n",
       "      <th>21</th>\n",
       "      <td>22</td>\n",
       "      <td>No</td>\n",
       "      <td>Points</td>\n",
       "      <td>Letter</td>\n",
       "      <td>Medium</td>\n",
       "      <td>1</td>\n",
       "      <td>No</td>\n",
       "      <td>Low</td>\n",
       "      <td>2</td>\n",
       "      <td>2</td>\n",
       "      <td>3</td>\n",
       "      <td>Yes</td>\n",
       "      <td>811.75</td>\n",
       "      <td>720.0</td>\n",
       "      <td>407.0</td>\n",
       "      <td>1224.0</td>\n",
       "      <td>896.0</td>\n",
       "    </tr>\n",
       "  </tbody>\n",
       "</table>\n",
       "</div>"
      ],
      "text/plain": [
       "    customer_number offer_accepted     reward mailer_type income_level  \\\n",
       "1                 2             No  Air Miles      Letter       Medium   \n",
       "2                 3             No  Air Miles    Postcard         High   \n",
       "6                 7             No  Air Miles      Letter       Medium   \n",
       "7                 8             No  Cash Back    Postcard          Low   \n",
       "21               22             No     Points      Letter       Medium   \n",
       "\n",
       "    bank_accounts_open overdraft_protection credit_rating  credit_cards_held  \\\n",
       "1                    1                   No        Medium                  2   \n",
       "2                    2                   No        Medium                  2   \n",
       "6                    1                   No        Medium                  2   \n",
       "7                    1                   No        Medium                  4   \n",
       "21                   1                   No           Low                  2   \n",
       "\n",
       "    homes_owned  household_size own_your_home  average_balance  q1_balance  \\\n",
       "1             2               5           Yes           147.25        39.0   \n",
       "2             1               2           Yes           276.50       367.0   \n",
       "6             1               3            No           283.75       468.0   \n",
       "7             1               4           Yes           278.50       132.0   \n",
       "21            2               3           Yes           811.75       720.0   \n",
       "\n",
       "    q2_balance  q3_balance  q4_balance  \n",
       "1        106.0        78.0       366.0  \n",
       "2        352.0       145.0       242.0  \n",
       "6        188.0       347.0       132.0  \n",
       "7        391.0       285.0       306.0  \n",
       "21       407.0      1224.0       896.0  "
      ]
     },
     "execution_count": 20,
     "metadata": {},
     "output_type": "execute_result"
    }
   ],
   "source": [
    "card[card['average_balance'] < general_mean].head()"
   ]
  },
  {
   "cell_type": "markdown",
   "id": "aefc6d8b",
   "metadata": {},
   "source": [
    "\n",
    "Column inficating in which percentile each customer is, related to the average_balance mean\n"
   ]
  },
  {
   "cell_type": "code",
   "execution_count": 21,
   "id": "16f1a275",
   "metadata": {},
   "outputs": [
    {
     "name": "stdout",
     "output_type": "stream",
     "text": [
      "1701.875 | 238.875\n"
     ]
    }
   ],
   "source": [
    "iqr = np.nanpercentile(card['average_balance'], 75) - np.nanpercentile(card['average_balance'], 25)\n",
    "upper_limit = np.nanpercentile(card['average_balance'], 75) + 1.5*iqr\n",
    "lower_limit = np.nanpercentile(card['average_balance'], 25) - 1.5*iqr\n",
    "print(upper_limit,'|', lower_limit)"
   ]
  },
  {
   "cell_type": "code",
   "execution_count": 22,
   "id": "8565b334",
   "metadata": {},
   "outputs": [],
   "source": [
    "percentile_list = []\n",
    "for i in card['average_balance']:\n",
    "    if i >= 0 and i < lower_limit:\n",
    "        percentile_list.append('Q1')\n",
    "    elif i >= lower_limit and i < general_mean:\n",
    "        percentile_list.append('Q2')\n",
    "    elif i >= general_mean and i < upper_limit:\n",
    "        percentile_list.append('Q3')\n",
    "    else:\n",
    "        percentile_list.append('Q4')"
   ]
  },
  {
   "cell_type": "code",
   "execution_count": 23,
   "id": "e71edd35",
   "metadata": {},
   "outputs": [
    {
     "data": {
      "text/html": [
       "<div>\n",
       "<style scoped>\n",
       "    .dataframe tbody tr th:only-of-type {\n",
       "        vertical-align: middle;\n",
       "    }\n",
       "\n",
       "    .dataframe tbody tr th {\n",
       "        vertical-align: top;\n",
       "    }\n",
       "\n",
       "    .dataframe thead th {\n",
       "        text-align: right;\n",
       "    }\n",
       "</style>\n",
       "<table border=\"1\" class=\"dataframe\">\n",
       "  <thead>\n",
       "    <tr style=\"text-align: right;\">\n",
       "      <th></th>\n",
       "      <th>customer_number</th>\n",
       "      <th>offer_accepted</th>\n",
       "      <th>reward</th>\n",
       "      <th>mailer_type</th>\n",
       "      <th>income_level</th>\n",
       "      <th>bank_accounts_open</th>\n",
       "      <th>overdraft_protection</th>\n",
       "      <th>credit_rating</th>\n",
       "      <th>credit_cards_held</th>\n",
       "      <th>homes_owned</th>\n",
       "      <th>household_size</th>\n",
       "      <th>own_your_home</th>\n",
       "      <th>average_balance</th>\n",
       "      <th>q1_balance</th>\n",
       "      <th>q2_balance</th>\n",
       "      <th>q3_balance</th>\n",
       "      <th>q4_balance</th>\n",
       "      <th>customers_balance_view</th>\n",
       "    </tr>\n",
       "  </thead>\n",
       "  <tbody>\n",
       "    <tr>\n",
       "      <th>0</th>\n",
       "      <td>1</td>\n",
       "      <td>No</td>\n",
       "      <td>Air Miles</td>\n",
       "      <td>Letter</td>\n",
       "      <td>High</td>\n",
       "      <td>1</td>\n",
       "      <td>No</td>\n",
       "      <td>High</td>\n",
       "      <td>2</td>\n",
       "      <td>1</td>\n",
       "      <td>4</td>\n",
       "      <td>No</td>\n",
       "      <td>1160.75</td>\n",
       "      <td>1669.0</td>\n",
       "      <td>877.0</td>\n",
       "      <td>1095.0</td>\n",
       "      <td>1002.0</td>\n",
       "      <td>Q3</td>\n",
       "    </tr>\n",
       "    <tr>\n",
       "      <th>1</th>\n",
       "      <td>2</td>\n",
       "      <td>No</td>\n",
       "      <td>Air Miles</td>\n",
       "      <td>Letter</td>\n",
       "      <td>Medium</td>\n",
       "      <td>1</td>\n",
       "      <td>No</td>\n",
       "      <td>Medium</td>\n",
       "      <td>2</td>\n",
       "      <td>2</td>\n",
       "      <td>5</td>\n",
       "      <td>Yes</td>\n",
       "      <td>147.25</td>\n",
       "      <td>39.0</td>\n",
       "      <td>106.0</td>\n",
       "      <td>78.0</td>\n",
       "      <td>366.0</td>\n",
       "      <td>Q1</td>\n",
       "    </tr>\n",
       "    <tr>\n",
       "      <th>2</th>\n",
       "      <td>3</td>\n",
       "      <td>No</td>\n",
       "      <td>Air Miles</td>\n",
       "      <td>Postcard</td>\n",
       "      <td>High</td>\n",
       "      <td>2</td>\n",
       "      <td>No</td>\n",
       "      <td>Medium</td>\n",
       "      <td>2</td>\n",
       "      <td>1</td>\n",
       "      <td>2</td>\n",
       "      <td>Yes</td>\n",
       "      <td>276.50</td>\n",
       "      <td>367.0</td>\n",
       "      <td>352.0</td>\n",
       "      <td>145.0</td>\n",
       "      <td>242.0</td>\n",
       "      <td>Q2</td>\n",
       "    </tr>\n",
       "    <tr>\n",
       "      <th>3</th>\n",
       "      <td>4</td>\n",
       "      <td>No</td>\n",
       "      <td>Air Miles</td>\n",
       "      <td>Letter</td>\n",
       "      <td>Medium</td>\n",
       "      <td>2</td>\n",
       "      <td>No</td>\n",
       "      <td>High</td>\n",
       "      <td>1</td>\n",
       "      <td>1</td>\n",
       "      <td>4</td>\n",
       "      <td>No</td>\n",
       "      <td>1219.00</td>\n",
       "      <td>1578.0</td>\n",
       "      <td>1760.0</td>\n",
       "      <td>1119.0</td>\n",
       "      <td>419.0</td>\n",
       "      <td>Q3</td>\n",
       "    </tr>\n",
       "    <tr>\n",
       "      <th>4</th>\n",
       "      <td>5</td>\n",
       "      <td>No</td>\n",
       "      <td>Air Miles</td>\n",
       "      <td>Letter</td>\n",
       "      <td>Medium</td>\n",
       "      <td>1</td>\n",
       "      <td>No</td>\n",
       "      <td>Medium</td>\n",
       "      <td>2</td>\n",
       "      <td>1</td>\n",
       "      <td>6</td>\n",
       "      <td>Yes</td>\n",
       "      <td>1211.00</td>\n",
       "      <td>2140.0</td>\n",
       "      <td>1357.0</td>\n",
       "      <td>982.0</td>\n",
       "      <td>365.0</td>\n",
       "      <td>Q3</td>\n",
       "    </tr>\n",
       "  </tbody>\n",
       "</table>\n",
       "</div>"
      ],
      "text/plain": [
       "   customer_number offer_accepted     reward mailer_type income_level  \\\n",
       "0                1             No  Air Miles      Letter         High   \n",
       "1                2             No  Air Miles      Letter       Medium   \n",
       "2                3             No  Air Miles    Postcard         High   \n",
       "3                4             No  Air Miles      Letter       Medium   \n",
       "4                5             No  Air Miles      Letter       Medium   \n",
       "\n",
       "   bank_accounts_open overdraft_protection credit_rating  credit_cards_held  \\\n",
       "0                   1                   No          High                  2   \n",
       "1                   1                   No        Medium                  2   \n",
       "2                   2                   No        Medium                  2   \n",
       "3                   2                   No          High                  1   \n",
       "4                   1                   No        Medium                  2   \n",
       "\n",
       "   homes_owned  household_size own_your_home  average_balance  q1_balance  \\\n",
       "0            1               4            No          1160.75      1669.0   \n",
       "1            2               5           Yes           147.25        39.0   \n",
       "2            1               2           Yes           276.50       367.0   \n",
       "3            1               4            No          1219.00      1578.0   \n",
       "4            1               6           Yes          1211.00      2140.0   \n",
       "\n",
       "   q2_balance  q3_balance  q4_balance customers_balance_view  \n",
       "0       877.0      1095.0      1002.0                     Q3  \n",
       "1       106.0        78.0       366.0                     Q1  \n",
       "2       352.0       145.0       242.0                     Q2  \n",
       "3      1760.0      1119.0       419.0                     Q3  \n",
       "4      1357.0       982.0       365.0                     Q3  "
      ]
     },
     "execution_count": 23,
     "metadata": {},
     "output_type": "execute_result"
    }
   ],
   "source": [
    "card['customers_balance_view'] = percentile_list\n",
    "card.head()"
   ]
  },
  {
   "cell_type": "markdown",
   "id": "c9732155",
   "metadata": {},
   "source": [
    "\n",
    "\n",
    "Number of people who accepted the offer against those who didn´t\n",
    "\n"
   ]
  },
  {
   "cell_type": "code",
   "execution_count": 24,
   "id": "8e0055ef",
   "metadata": {},
   "outputs": [
    {
     "data": {
      "text/plain": [
       "No     16977\n",
       "Yes     1023\n",
       "Name: offer_accepted, dtype: int64"
      ]
     },
     "execution_count": 24,
     "metadata": {},
     "output_type": "execute_result"
    }
   ],
   "source": [
    "card['offer_accepted'].value_counts()"
   ]
  },
  {
   "cell_type": "markdown",
   "id": "0068b0df",
   "metadata": {},
   "source": [
    "\n",
    "Checking if there's difference between average_balances of high and medium credit rating against low credit card rating\n"
   ]
  },
  {
   "cell_type": "code",
   "execution_count": 25,
   "id": "6a594535",
   "metadata": {},
   "outputs": [
    {
     "data": {
      "text/html": [
       "<div>\n",
       "<style scoped>\n",
       "    .dataframe tbody tr th:only-of-type {\n",
       "        vertical-align: middle;\n",
       "    }\n",
       "\n",
       "    .dataframe tbody tr th {\n",
       "        vertical-align: top;\n",
       "    }\n",
       "\n",
       "    .dataframe thead th {\n",
       "        text-align: right;\n",
       "    }\n",
       "</style>\n",
       "<table border=\"1\" class=\"dataframe\">\n",
       "  <thead>\n",
       "    <tr style=\"text-align: right;\">\n",
       "      <th></th>\n",
       "      <th>average_balance</th>\n",
       "    </tr>\n",
       "    <tr>\n",
       "      <th>credit_rating</th>\n",
       "      <th></th>\n",
       "    </tr>\n",
       "  </thead>\n",
       "  <tbody>\n",
       "    <tr>\n",
       "      <th>High</th>\n",
       "      <td>944.391573</td>\n",
       "    </tr>\n",
       "    <tr>\n",
       "      <th>Low</th>\n",
       "      <td>940.340745</td>\n",
       "    </tr>\n",
       "    <tr>\n",
       "      <th>Medium</th>\n",
       "      <td>936.748910</td>\n",
       "    </tr>\n",
       "  </tbody>\n",
       "</table>\n",
       "</div>"
      ],
      "text/plain": [
       "               average_balance\n",
       "credit_rating                 \n",
       "High                944.391573\n",
       "Low                 940.340745\n",
       "Medium              936.748910"
      ]
     },
     "execution_count": 25,
     "metadata": {},
     "output_type": "execute_result"
    }
   ],
   "source": [
    "card.groupby(['credit_rating']).agg({'average_balance' : 'mean'})"
   ]
  },
  {
   "cell_type": "markdown",
   "id": "4cd923f9",
   "metadata": {},
   "source": [
    "There is no great difference between high_rank and low_rank, not enough to considerate it a differentiative indicator\n",
    "\n",
    "\n"
   ]
  },
  {
   "cell_type": "markdown",
   "id": "a975ec56",
   "metadata": {},
   "source": [
    "\n",
    "\n",
    "Finding out types of communication and with how many customers were used.\n",
    "\n"
   ]
  },
  {
   "cell_type": "code",
   "execution_count": 26,
   "id": "c7c41f1e",
   "metadata": {},
   "outputs": [
    {
     "data": {
      "text/plain": [
       "Postcard    9147\n",
       "Letter      8853\n",
       "Name: mailer_type, dtype: int64"
      ]
     },
     "execution_count": 26,
     "metadata": {},
     "output_type": "execute_result"
    }
   ],
   "source": [
    "card['mailer_type'].value_counts()"
   ]
  },
  {
   "cell_type": "code",
   "execution_count": 27,
   "id": "4bc1db31",
   "metadata": {},
   "outputs": [
    {
     "data": {
      "text/html": [
       "<div>\n",
       "<style scoped>\n",
       "    .dataframe tbody tr th:only-of-type {\n",
       "        vertical-align: middle;\n",
       "    }\n",
       "\n",
       "    .dataframe tbody tr th {\n",
       "        vertical-align: top;\n",
       "    }\n",
       "\n",
       "    .dataframe thead th {\n",
       "        text-align: right;\n",
       "    }\n",
       "</style>\n",
       "<table border=\"1\" class=\"dataframe\">\n",
       "  <thead>\n",
       "    <tr style=\"text-align: right;\">\n",
       "      <th></th>\n",
       "      <th>customer_number</th>\n",
       "    </tr>\n",
       "    <tr>\n",
       "      <th>mailer_type</th>\n",
       "      <th></th>\n",
       "    </tr>\n",
       "  </thead>\n",
       "  <tbody>\n",
       "    <tr>\n",
       "      <th>Letter</th>\n",
       "      <td>8853</td>\n",
       "    </tr>\n",
       "    <tr>\n",
       "      <th>Postcard</th>\n",
       "      <td>9147</td>\n",
       "    </tr>\n",
       "  </tbody>\n",
       "</table>\n",
       "</div>"
      ],
      "text/plain": [
       "             customer_number\n",
       "mailer_type                 \n",
       "Letter                  8853\n",
       "Postcard                9147"
      ]
     },
     "execution_count": 27,
     "metadata": {},
     "output_type": "execute_result"
    }
   ],
   "source": [
    "card.groupby(['mailer_type']).agg({'customer_number': 'count'})"
   ]
  },
  {
   "cell_type": "markdown",
   "id": "6c3a2895",
   "metadata": {},
   "source": [
    "\n",
    "Finding the customer that is the 11th least 'Q1_balance' in your database\n"
   ]
  },
  {
   "cell_type": "code",
   "execution_count": 28,
   "id": "3064a39f",
   "metadata": {},
   "outputs": [],
   "source": [
    "ordered_q1 = card[['customer_number', 'q1_balance']].sort_values(by = 'q1_balance', ascending = False)"
   ]
  },
  {
   "cell_type": "code",
   "execution_count": 29,
   "id": "8aec7c99",
   "metadata": {},
   "outputs": [],
   "source": [
    "ordered_q1 = ordered_q1.dropna()"
   ]
  },
  {
   "cell_type": "code",
   "execution_count": 30,
   "id": "728ba183",
   "metadata": {},
   "outputs": [
    {
     "data": {
      "text/html": [
       "<div>\n",
       "<style scoped>\n",
       "    .dataframe tbody tr th:only-of-type {\n",
       "        vertical-align: middle;\n",
       "    }\n",
       "\n",
       "    .dataframe tbody tr th {\n",
       "        vertical-align: top;\n",
       "    }\n",
       "\n",
       "    .dataframe thead th {\n",
       "        text-align: right;\n",
       "    }\n",
       "</style>\n",
       "<table border=\"1\" class=\"dataframe\">\n",
       "  <thead>\n",
       "    <tr style=\"text-align: right;\">\n",
       "      <th></th>\n",
       "      <th>customer_number</th>\n",
       "      <th>q1_balance</th>\n",
       "    </tr>\n",
       "  </thead>\n",
       "  <tbody>\n",
       "    <tr>\n",
       "      <th>4171</th>\n",
       "      <td>4172</td>\n",
       "      <td>1.0</td>\n",
       "    </tr>\n",
       "  </tbody>\n",
       "</table>\n",
       "</div>"
      ],
      "text/plain": [
       "      customer_number  q1_balance\n",
       "4171             4172         1.0"
      ]
     },
     "execution_count": 30,
     "metadata": {},
     "output_type": "execute_result"
    }
   ],
   "source": [
    "ordered_q1.iloc[[-11]]"
   ]
  },
  {
   "cell_type": "markdown",
   "id": "78e1c685",
   "metadata": {},
   "source": [
    "\n",
    "Dealing with nan\n"
   ]
  },
  {
   "cell_type": "code",
   "execution_count": 31,
   "id": "6b722549",
   "metadata": {},
   "outputs": [
    {
     "data": {
      "text/plain": [
       "customer_number            0\n",
       "offer_accepted             0\n",
       "reward                     0\n",
       "mailer_type                0\n",
       "income_level               0\n",
       "bank_accounts_open         0\n",
       "overdraft_protection       0\n",
       "credit_rating              0\n",
       "credit_cards_held          0\n",
       "homes_owned                0\n",
       "household_size             0\n",
       "own_your_home              0\n",
       "average_balance           24\n",
       "q1_balance                24\n",
       "q2_balance                24\n",
       "q3_balance                24\n",
       "q4_balance                24\n",
       "customers_balance_view     0\n",
       "dtype: int64"
      ]
     },
     "execution_count": 31,
     "metadata": {},
     "output_type": "execute_result"
    }
   ],
   "source": [
    "card.isnull().sum()"
   ]
  },
  {
   "cell_type": "code",
   "execution_count": 32,
   "id": "5c47be1f",
   "metadata": {},
   "outputs": [],
   "source": [
    "card = card.dropna()"
   ]
  },
  {
   "cell_type": "markdown",
   "id": "86c677d0",
   "metadata": {},
   "source": [
    "We drop NaN values since they don't represent great amount compared to the total.\n",
    "As we saw before the correlation between them is very high, because average_balance is the mean of \n",
    "qn_balance "
   ]
  },
  {
   "cell_type": "code",
   "execution_count": 33,
   "id": "fc66b72c",
   "metadata": {
    "scrolled": true
   },
   "outputs": [
    {
     "data": {
      "text/plain": [
       "customer_number           0\n",
       "offer_accepted            0\n",
       "reward                    0\n",
       "mailer_type               0\n",
       "income_level              0\n",
       "bank_accounts_open        0\n",
       "overdraft_protection      0\n",
       "credit_rating             0\n",
       "credit_cards_held         0\n",
       "homes_owned               0\n",
       "household_size            0\n",
       "own_your_home             0\n",
       "average_balance           0\n",
       "q1_balance                0\n",
       "q2_balance                0\n",
       "q3_balance                0\n",
       "q4_balance                0\n",
       "customers_balance_view    0\n",
       "dtype: int64"
      ]
     },
     "execution_count": 33,
     "metadata": {},
     "output_type": "execute_result"
    }
   ],
   "source": [
    "card.isnull().sum()"
   ]
  },
  {
   "cell_type": "code",
   "execution_count": 34,
   "id": "52f98ffb",
   "metadata": {
    "scrolled": true
   },
   "outputs": [
    {
     "data": {
      "text/plain": [
       "3    5705\n",
       "4    5532\n",
       "5    2851\n",
       "2    2809\n",
       "1     539\n",
       "6     538\n",
       "8       1\n",
       "9       1\n",
       "Name: household_size, dtype: int64"
      ]
     },
     "execution_count": 34,
     "metadata": {},
     "output_type": "execute_result"
    }
   ],
   "source": [
    "card['household_size'].value_counts()"
   ]
  },
  {
   "cell_type": "markdown",
   "id": "174d8112",
   "metadata": {},
   "source": [
    "Numerical Distributions "
   ]
  },
  {
   "cell_type": "code",
   "execution_count": 37,
   "id": "1ffec7ed",
   "metadata": {},
   "outputs": [],
   "source": [
    "num = card.select_dtypes(include = np.number)"
   ]
  },
  {
   "cell_type": "code",
   "execution_count": 38,
   "id": "c8ce2fa4",
   "metadata": {},
   "outputs": [
    {
     "data": {
      "text/html": [
       "<div>\n",
       "<style scoped>\n",
       "    .dataframe tbody tr th:only-of-type {\n",
       "        vertical-align: middle;\n",
       "    }\n",
       "\n",
       "    .dataframe tbody tr th {\n",
       "        vertical-align: top;\n",
       "    }\n",
       "\n",
       "    .dataframe thead th {\n",
       "        text-align: right;\n",
       "    }\n",
       "</style>\n",
       "<table border=\"1\" class=\"dataframe\">\n",
       "  <thead>\n",
       "    <tr style=\"text-align: right;\">\n",
       "      <th></th>\n",
       "      <th>customer_number</th>\n",
       "      <th>bank_accounts_open</th>\n",
       "      <th>credit_cards_held</th>\n",
       "      <th>homes_owned</th>\n",
       "      <th>household_size</th>\n",
       "      <th>average_balance</th>\n",
       "      <th>q1_balance</th>\n",
       "      <th>q2_balance</th>\n",
       "      <th>q3_balance</th>\n",
       "      <th>q4_balance</th>\n",
       "    </tr>\n",
       "  </thead>\n",
       "  <tbody>\n",
       "    <tr>\n",
       "      <th>0</th>\n",
       "      <td>1</td>\n",
       "      <td>1</td>\n",
       "      <td>2</td>\n",
       "      <td>1</td>\n",
       "      <td>4</td>\n",
       "      <td>1160.75</td>\n",
       "      <td>1669.0</td>\n",
       "      <td>877.0</td>\n",
       "      <td>1095.0</td>\n",
       "      <td>1002.0</td>\n",
       "    </tr>\n",
       "    <tr>\n",
       "      <th>1</th>\n",
       "      <td>2</td>\n",
       "      <td>1</td>\n",
       "      <td>2</td>\n",
       "      <td>2</td>\n",
       "      <td>5</td>\n",
       "      <td>147.25</td>\n",
       "      <td>39.0</td>\n",
       "      <td>106.0</td>\n",
       "      <td>78.0</td>\n",
       "      <td>366.0</td>\n",
       "    </tr>\n",
       "    <tr>\n",
       "      <th>2</th>\n",
       "      <td>3</td>\n",
       "      <td>2</td>\n",
       "      <td>2</td>\n",
       "      <td>1</td>\n",
       "      <td>2</td>\n",
       "      <td>276.50</td>\n",
       "      <td>367.0</td>\n",
       "      <td>352.0</td>\n",
       "      <td>145.0</td>\n",
       "      <td>242.0</td>\n",
       "    </tr>\n",
       "    <tr>\n",
       "      <th>3</th>\n",
       "      <td>4</td>\n",
       "      <td>2</td>\n",
       "      <td>1</td>\n",
       "      <td>1</td>\n",
       "      <td>4</td>\n",
       "      <td>1219.00</td>\n",
       "      <td>1578.0</td>\n",
       "      <td>1760.0</td>\n",
       "      <td>1119.0</td>\n",
       "      <td>419.0</td>\n",
       "    </tr>\n",
       "    <tr>\n",
       "      <th>4</th>\n",
       "      <td>5</td>\n",
       "      <td>1</td>\n",
       "      <td>2</td>\n",
       "      <td>1</td>\n",
       "      <td>6</td>\n",
       "      <td>1211.00</td>\n",
       "      <td>2140.0</td>\n",
       "      <td>1357.0</td>\n",
       "      <td>982.0</td>\n",
       "      <td>365.0</td>\n",
       "    </tr>\n",
       "  </tbody>\n",
       "</table>\n",
       "</div>"
      ],
      "text/plain": [
       "   customer_number  bank_accounts_open  credit_cards_held  homes_owned  \\\n",
       "0                1                   1                  2            1   \n",
       "1                2                   1                  2            2   \n",
       "2                3                   2                  2            1   \n",
       "3                4                   2                  1            1   \n",
       "4                5                   1                  2            1   \n",
       "\n",
       "   household_size  average_balance  q1_balance  q2_balance  q3_balance  \\\n",
       "0               4          1160.75      1669.0       877.0      1095.0   \n",
       "1               5           147.25        39.0       106.0        78.0   \n",
       "2               2           276.50       367.0       352.0       145.0   \n",
       "3               4          1219.00      1578.0      1760.0      1119.0   \n",
       "4               6          1211.00      2140.0      1357.0       982.0   \n",
       "\n",
       "   q4_balance  \n",
       "0      1002.0  \n",
       "1       366.0  \n",
       "2       242.0  \n",
       "3       419.0  \n",
       "4       365.0  "
      ]
     },
     "execution_count": 38,
     "metadata": {},
     "output_type": "execute_result"
    }
   ],
   "source": [
    "num.head()"
   ]
  },
  {
   "cell_type": "code",
   "execution_count": 39,
   "id": "4101f875",
   "metadata": {},
   "outputs": [
    {
     "data": {
      "image/png": "[encoded data removed]",
      "text/plain": [
       "<Figure size 432x288 with 1 Axes>"
      ]
     },
     "metadata": {
      "needs_background": "light"
     },
     "output_type": "display_data"
    }
   ],
   "source": [
    "fig, ax = plt.subplots()\n",
    "ax.scatter(x = num['average_balance'], y = num['customer_number'])\n",
    "plt.show()"
   ]
  },
  {
   "cell_type": "code",
   "execution_count": 40,
   "id": "5e51d3dd",
   "metadata": {},
   "outputs": [
    {
     "data": {
      "image/png": "[encoded data removed]",
      "text/plain": [
       "<Figure size 432x288 with 1 Axes>"
      ]
     },
     "metadata": {
      "needs_background": "light"
     },
     "output_type": "display_data"
    }
   ],
   "source": [
    "fig, ax = plt.subplots()\n",
    "ax.scatter(x = num['average_balance'], y = num['q1_balance'])\n",
    "plt.show()"
   ]
  },
  {
   "cell_type": "code",
   "execution_count": 41,
   "id": "7f1043fd",
   "metadata": {
    "scrolled": true
   },
   "outputs": [
    {
     "data": {
      "image/png": "[encoded data removed]",
      "text/plain": [
       "<Figure size 432x288 with 1 Axes>"
      ]
     },
     "metadata": {
      "needs_background": "light"
     },
     "output_type": "display_data"
    }
   ],
   "source": [
    "fig, ax = plt.subplots()\n",
    "ax.scatter(x = num['average_balance'], y = num['q2_balance'])\n",
    "plt.show()"
   ]
  },
  {
   "cell_type": "code",
   "execution_count": 42,
   "id": "f14482d5",
   "metadata": {},
   "outputs": [
    {
     "data": {
      "image/png": "[encoded data removed]",
      "text/plain": [
       "<Figure size 432x288 with 1 Axes>"
      ]
     },
     "metadata": {
      "needs_background": "light"
     },
     "output_type": "display_data"
    }
   ],
   "source": [
    "fig, ax = plt.subplots()\n",
    "ax.scatter(x = num['average_balance'], y = num['q3_balance'])\n",
    "plt.show()"
   ]
  },
  {
   "cell_type": "code",
   "execution_count": 43,
   "id": "4490edac",
   "metadata": {},
   "outputs": [
    {
     "data": {
      "image/png": "[encoded data removed]",
      "text/plain": [
       "<Figure size 432x288 with 1 Axes>"
      ]
     },
     "metadata": {
      "needs_background": "light"
     },
     "output_type": "display_data"
    }
   ],
   "source": [
    "fig, ax = plt.subplots()\n",
    "ax.scatter(x = num['average_balance'], y = num['q4_balance'])\n",
    "plt.show()"
   ]
  },
  {
   "cell_type": "code",
   "execution_count": 44,
   "id": "34481c43",
   "metadata": {},
   "outputs": [
    {
     "data": {
      "image/png": "[encoded data removed]",
      "text/plain": [
       "<Figure size 432x288 with 1 Axes>"
      ]
     },
     "metadata": {
      "needs_background": "light"
     },
     "output_type": "display_data"
    }
   ],
   "source": [
    "fig, ax = plt.subplots()\n",
    "ax.scatter(num['average_balance'], num['q1_balance'], label = 'Q1') \n",
    "ax.scatter(num['average_balance'], num['q2_balance'], label = 'Q2')\n",
    "ax.scatter(num['average_balance'], num['q3_balance'], label = 'Q3')\n",
    "ax.scatter(num['average_balance'], num['q4_balance'], label = 'Q4')\n",
    "ax.set_xlabel('x')\n",
    "ax.set_ylabel('y')\n",
    "plt.legend()\n",
    "plt.show()\n"
   ]
  },
  {
   "cell_type": "markdown",
   "id": "409eb3a0",
   "metadata": {},
   "source": [
    "We find some otuliers and linear distributions"
   ]
  },
  {
   "cell_type": "markdown",
   "id": "0d3a4f63",
   "metadata": {},
   "source": [
    "Removing outliers"
   ]
  },
  {
   "cell_type": "code",
   "execution_count": 45,
   "id": "e1724b51",
   "metadata": {},
   "outputs": [
    {
     "data": {
      "image/png": "[encoded data removed]",
      "text/plain": [
       "<Figure size 432x288 with 1 Axes>"
      ]
     },
     "metadata": {
      "needs_background": "light"
     },
     "output_type": "display_data"
    }
   ],
   "source": [
    "sns.boxplot(data = card['average_balance'])\n",
    "plt.show()"
   ]
  },
  {
   "cell_type": "code",
   "execution_count": 46,
   "id": "0bc95960",
   "metadata": {},
   "outputs": [
    {
     "name": "stdout",
     "output_type": "stream",
     "text": [
      "278\n"
     ]
    },
    {
     "data": {
      "text/plain": [
       "1163"
      ]
     },
     "execution_count": 46,
     "metadata": {},
     "output_type": "execute_result"
    }
   ],
   "source": [
    "iqr = np.nanpercentile(card['average_balance'],75) - np.nanpercentile(card['average_balance'],25)\n",
    "\n",
    "upper_limit = np.nanpercentile(card['average_balance'],75) + 1.5*iqr\n",
    "lower_limit = np.nanpercentile(card['average_balance'],25) - 1.5*iqr\n",
    "\n",
    "extra_points_up = card[card['average_balance'] > upper_limit]\n",
    "extra_points_down = card[card['average_balance'] < lower_limit]\n",
    "\n",
    "print(len(extra_points_up))\n",
    "len(extra_points_down)"
   ]
  },
  {
   "cell_type": "code",
   "execution_count": 47,
   "id": "baaae20c",
   "metadata": {},
   "outputs": [
    {
     "data": {
      "text/plain": [
       "111"
      ]
     },
     "execution_count": 47,
     "metadata": {},
     "output_type": "execute_result"
    }
   ],
   "source": [
    "upper_limit_85 = np.nanpercentile(card['average_balance'],85) + 1.5*iqr\n",
    "\n",
    "extra_points_up_85 = card[card['average_balance'] > upper_limit_85]\n",
    "len(extra_points_up_85)"
   ]
  },
  {
   "cell_type": "code",
   "execution_count": 48,
   "id": "08bafd01",
   "metadata": {},
   "outputs": [
    {
     "data": {
      "image/png": "[encoded data removed]",
      "text/plain": [
       "<Figure size 1080x576 with 2 Axes>"
      ]
     },
     "metadata": {
      "needs_background": "light"
     },
     "output_type": "display_data"
    },
    {
     "data": {
      "image/png": "[encoded data removed]",
      "text/plain": [
       "<Figure size 1080x576 with 2 Axes>"
      ]
     },
     "metadata": {
      "needs_background": "light"
     },
     "output_type": "display_data"
    }
   ],
   "source": [
    "card_outliers_dropped = card[card['average_balance'] <= upper_limit].copy()\n",
    "\n",
    "fig, ax = plt.subplots(1, 2, figsize = (15, 8))\n",
    "sns.histplot(x = 'average_balance', data = card, ax = ax[0])\n",
    "sns.histplot(x = 'average_balance', data = card_outliers_dropped, ax = ax[1])\n",
    "plt.show()\n",
    "\n",
    "card_outliers_dropped_85 = card[card['average_balance'] <= upper_limit_85].copy()\n",
    "\n",
    "fig, ax = plt.subplots(1, 2, figsize = (15, 8))\n",
    "sns.histplot(x = 'average_balance', data = card, ax = ax[0])\n",
    "sns.histplot(x = 'average_balance', data = card_outliers_dropped_85, ax = ax[1])\n",
    "plt.show()"
   ]
  },
  {
   "cell_type": "markdown",
   "id": "b889567b",
   "metadata": {},
   "source": [
    "We take the card_outliers_dropped_85 dataframe as it shows more information, although is not a great amount of values, it can help to understand better the sample"
   ]
  },
  {
   "cell_type": "code",
   "execution_count": 49,
   "id": "b06f4004",
   "metadata": {},
   "outputs": [
    {
     "data": {
      "text/plain": [
       "(17865, 18)"
      ]
     },
     "execution_count": 49,
     "metadata": {},
     "output_type": "execute_result"
    }
   ],
   "source": [
    "card = card_outliers_dropped_85\n",
    "card.shape"
   ]
  },
  {
   "cell_type": "code",
   "execution_count": 50,
   "id": "04dcc977",
   "metadata": {},
   "outputs": [],
   "source": [
    "card.to_excel(\"../data/clean/clean_data_user.xlsx\", index=False)"
   ]
  },
  {
   "cell_type": "markdown",
   "id": "a390d3a6",
   "metadata": {},
   "source": [
    "\n",
    "\n",
    "Train_Test_split\n"
   ]
  },
  {
   "cell_type": "code",
   "execution_count": 51,
   "id": "427963a6",
   "metadata": {},
   "outputs": [],
   "source": [
    "X = card.drop('offer_accepted', axis = 1)\n",
    "y = pd.DataFrame(card['offer_accepted'])\n",
    "\n",
    "X_train, X_test, y_train, y_test = train_test_split(X, y, test_size = 0.2, random_state = 150)"
   ]
  },
  {
   "cell_type": "code",
   "execution_count": 52,
   "id": "716e2514",
   "metadata": {},
   "outputs": [],
   "source": [
    "X_train_num = X_train.select_dtypes(include = np.number)\n",
    "X_test_num = X_test.select_dtypes(include = np.number)\n",
    "X_train_cat = X_train.select_dtypes(object)\n",
    "X_test_cat = X_test.select_dtypes(object)"
   ]
  },
  {
   "cell_type": "markdown",
   "id": "2cfa77fd",
   "metadata": {},
   "source": [
    "Transforming and encoding"
   ]
  },
  {
   "cell_type": "code",
   "execution_count": 53,
   "id": "f8adae4b",
   "metadata": {},
   "outputs": [],
   "source": [
    "from sklearn.preprocessing import MinMaxScaler\n",
    "transformer = MinMaxScaler()\n",
    "\n",
    "transformer.fit(X_train_num)\n",
    "\n",
    "X_train_norm = transformer.transform(X_train_num)\n",
    "X_train_norm = pd.DataFrame(X_train_norm, columns = X_train_num.columns)\n",
    "\n",
    "X_test_norm = transformer.transform(X_test_num)\n",
    "X_test_norm = pd.DataFrame(X_test_norm, columns = X_test_num.columns)"
   ]
  },
  {
   "cell_type": "markdown",
   "id": "2ba1c3b1",
   "metadata": {},
   "source": [
    "One hot encoder"
   ]
  },
  {
   "cell_type": "code",
   "execution_count": 54,
   "id": "f4731dac",
   "metadata": {},
   "outputs": [],
   "source": [
    "encoder = OneHotEncoder(drop = 'first')\n",
    "\n",
    "encoder.fit(X_train_cat)\n",
    "X_train_cat_encoded = encoder.transform(X_train_cat).toarray()\n",
    "X_train_cat_encoded = pd.DataFrame(X_train_cat_encoded, columns = encoder.get_feature_names_out())\n",
    "\n",
    "X_test_cat_encoded = encoder.transform(X_test_cat).toarray()\n",
    "X_test_cat_encoded = pd.DataFrame(X_test_cat_encoded, columns = encoder.get_feature_names_out())"
   ]
  },
  {
   "cell_type": "code",
   "execution_count": 55,
   "id": "14bf5ee8",
   "metadata": {},
   "outputs": [],
   "source": [
    "X_train_treated = pd.concat([X_train_norm, X_train_cat_encoded], axis = 1)\n",
    "X_test_treated  = pd.concat([X_test_norm, X_test_cat_encoded], axis = 1)"
   ]
  },
  {
   "cell_type": "markdown",
   "id": "de2159b6",
   "metadata": {},
   "source": [
    "Checking Class Imbalance "
   ]
  },
  {
   "cell_type": "code",
   "execution_count": 56,
   "id": "24b87d1e",
   "metadata": {},
   "outputs": [
    {
     "name": "stdout",
     "output_type": "stream",
     "text": [
      "The class imbalance ratio is: 0.89\n",
      "No     16848\n",
      "Yes     1017\n",
      "Name: offer_accepted, dtype: int64\n"
     ]
    },
    {
     "data": {
      "image/png": "[encoded data removed]",
      "text/plain": [
       "<Figure size 432x288 with 1 Axes>"
      ]
     },
     "metadata": {
      "needs_background": "light"
     },
     "output_type": "display_data"
    }
   ],
   "source": [
    "print(\"The class imbalance ratio is: {:.2f}\".format((card['offer_accepted'].value_counts()[0]-\n",
    "                                                     card['offer_accepted'].value_counts()[1])/\n",
    "                                                    (card['offer_accepted'].value_counts()[0]+\n",
    "                                                     card['offer_accepted'].value_counts()[1])))\n",
    "\n",
    "classes = card['offer_accepted'].value_counts()\n",
    "print(classes)\n",
    "sns.countplot(x = 'offer_accepted', data = card);\n",
    "plt.show()"
   ]
  },
  {
   "cell_type": "markdown",
   "id": "16fff11d",
   "metadata": {},
   "source": [
    "There is a huge imbalance"
   ]
  },
  {
   "cell_type": "code",
   "execution_count": 57,
   "id": "2ab3e9e6",
   "metadata": {},
   "outputs": [],
   "source": [
    "y_train = y_train['offer_accepted']\n",
    "y_test = y_test['offer_accepted']"
   ]
  },
  {
   "cell_type": "code",
   "execution_count": 58,
   "id": "1713d0d5",
   "metadata": {},
   "outputs": [],
   "source": [
    "lr = LogisticRegression(random_state = 100, solver='lbfgs',\n",
    "                  multi_class='multinomial').fit(X_train_treated, y_train)\n",
    "\n",
    "y_train_pred = lr.predict(X_train_treated)\n",
    "y_test_pred = lr.predict(X_test_treated)"
   ]
  },
  {
   "cell_type": "code",
   "execution_count": 59,
   "id": "fba8d845",
   "metadata": {},
   "outputs": [
    {
     "name": "stdout",
     "output_type": "stream",
     "text": [
      "The accuracy on the TRAIN set 0.945\n",
      "The precision in the TRAIN set is: 0.945\n",
      "The recall in the TRAIN set is: 1.000\n",
      "The F1 in the TRAIN set is: 0.971\n",
      "The Kappa in the TRAIN set is: 0.000\n",
      "\n",
      "The accuracy in the TEST set is: 0.94\n",
      "The precision in the TEST set is: 0.94\n",
      "The recall in the TEST set is: 1.00\n",
      "The F1 in the TEST set is: 0.97\n",
      "The Kappa in the TEST set is: 0.00\n"
     ]
    }
   ],
   "source": [
    "print(\"The accuracy on the TRAIN set {:.3f}\".format(accuracy_score(y_train, y_train_pred)))\n",
    "print(\"The precision in the TRAIN set is: {:.3f}\".format(precision_score(y_train, y_train_pred, pos_label = \"No\")))\n",
    "print(\"The recall in the TRAIN set is: {:.3f}\".format(recall_score(y_train, y_train_pred, pos_label = \"No\")))\n",
    "print(\"The F1 in the TRAIN set is: {:.3f}\".format(f1_score(y_train, y_train_pred, pos_label = \"No\")))\n",
    "print(\"The Kappa in the TRAIN set is: {:.3f}\".format(cohen_kappa_score(y_train, y_train_pred)))\n",
    "\n",
    "print(\"\\nThe accuracy in the TEST set is: {:.2f}\".format(accuracy_score(y_test,y_test_pred)))\n",
    "print(\"The precision in the TEST set is: {:.2f}\".format(precision_score(y_test,y_test_pred, pos_label = \"No\")))\n",
    "print(\"The recall in the TEST set is: {:.2f}\".format(recall_score(y_test,y_test_pred, pos_label = \"No\")))\n",
    "print(\"The F1 in the TEST set is: {:.2f}\".format(f1_score(y_test,y_test_pred, pos_label = \"No\")))\n",
    "print(\"The Kappa in the TEST set is: {:.2f}\".format(cohen_kappa_score(y_test,y_test_pred)))"
   ]
  },
  {
   "cell_type": "code",
   "execution_count": 60,
   "id": "acf3ca62",
   "metadata": {},
   "outputs": [
    {
     "data": {
      "image/png": "[encoded data removed]",
      "text/plain": [
       "<Figure size 432x288 with 2 Axes>"
      ]
     },
     "metadata": {
      "needs_background": "light"
     },
     "output_type": "display_data"
    }
   ],
   "source": [
    "cm_test = confusion_matrix(y_test,y_test_pred)\n",
    "disp = ConfusionMatrixDisplay(confusion_matrix = cm_test, display_labels = lr.classes_)\n",
    "disp.plot()\n",
    "plt.show()"
   ]
  },
  {
   "cell_type": "code",
   "execution_count": 61,
   "id": "379f5322",
   "metadata": {},
   "outputs": [],
   "source": [
    "sm = SMOTE(random_state = 100, k_neighbors = 30)\n",
    "\n",
    "X_train_SMOTE, y_train_SMOTE = sm.fit_resample(X_train_treated, y_train)"
   ]
  },
  {
   "cell_type": "code",
   "execution_count": 62,
   "id": "dd64c1f2",
   "metadata": {},
   "outputs": [
    {
     "data": {
      "text/plain": [
       "((26998, 22), (14292, 17))"
      ]
     },
     "execution_count": 62,
     "metadata": {},
     "output_type": "execute_result"
    }
   ],
   "source": [
    "X_train_SMOTE.shape, X_train.shape"
   ]
  },
  {
   "cell_type": "code",
   "execution_count": 63,
   "id": "acc90926",
   "metadata": {},
   "outputs": [],
   "source": [
    "lr_1= LogisticRegression(max_iter=1000)\n",
    "\n",
    "lr_1.fit(X_train_SMOTE, y_train_SMOTE)\n",
    "\n",
    "y_test_pred_1 = lr_1.predict(X_test_treated)"
   ]
  },
  {
   "cell_type": "code",
   "execution_count": 64,
   "id": "88df6569",
   "metadata": {},
   "outputs": [
    {
     "name": "stdout",
     "output_type": "stream",
     "text": [
      "The accuracy in the TEST set is: 0.68\n",
      "The precision in the TEST set is: 0.97\n",
      "The recall in the TEST set is: 0.68\n",
      "The F1 in the TEST set is: 0.80\n",
      "The Kappa in the TEST set is: 0.12\n"
     ]
    }
   ],
   "source": [
    "print(\"The accuracy in the TEST set is: {:.2f}\".format(accuracy_score(y_test,y_test_pred_1)))\n",
    "print(\"The precision in the TEST set is: {:.2f}\".format(precision_score(y_test,y_test_pred_1, pos_label = \"No\")))\n",
    "print(\"The recall in the TEST set is: {:.2f}\".format(recall_score(y_test,y_test_pred_1, pos_label = \"No\")))\n",
    "print(\"The F1 in the TEST set is: {:.2f}\".format(f1_score(y_test,y_test_pred_1, pos_label = \"No\")))\n",
    "print(\"The Kappa in the TEST set is: {:.2f}\".format(cohen_kappa_score(y_test,y_test_pred_1)))"
   ]
  },
  {
   "cell_type": "code",
   "execution_count": 65,
   "id": "b9e22f1b",
   "metadata": {},
   "outputs": [
    {
     "data": {
      "image/png": "[encoded data removed]",
      "text/plain": [
       "<Figure size 432x288 with 2 Axes>"
      ]
     },
     "metadata": {
      "needs_background": "light"
     },
     "output_type": "display_data"
    }
   ],
   "source": [
    "cm_test_1 = confusion_matrix(y_test,y_test_pred_1)\n",
    "disp_1 = ConfusionMatrixDisplay(confusion_matrix = cm_test_1, display_labels = lr_1.classes_)\n",
    "disp_1.plot()\n",
    "plt.show()"
   ]
  },
  {
   "cell_type": "code",
   "execution_count": 66,
   "id": "0a00d7b1",
   "metadata": {},
   "outputs": [
    {
     "data": {
      "image/png": "[encoded data removed]",
      "text/plain": [
       "<Figure size 432x288 with 1 Axes>"
      ]
     },
     "metadata": {
      "needs_background": "light"
     },
     "output_type": "display_data"
    }
   ],
   "source": [
    "sns.countplot(x = lr_1.predict(X_test_treated), data = y);\n",
    "plt.show()"
   ]
  },
  {
   "cell_type": "markdown",
   "id": "f785a32e",
   "metadata": {},
   "source": [
    "We still see class imbalance but it has been reduced notably "
   ]
  }
 ],
 "metadata": {
  "kernelspec": {
   "display_name": "mid_project",
   "language": "python",
   "name": "mid_project"
  },
  "language_info": {
   "codemirror_mode": {
    "name": "ipython",
    "version": 3
   },
   "file_extension": ".py",
   "mimetype": "text/x-python",
   "name": "python",
   "nbconvert_exporter": "python",
   "pygments_lexer": "ipython3",
   "version": "3.9.12"
  }
 },
 "nbformat": 4,
 "nbformat_minor": 5
}
